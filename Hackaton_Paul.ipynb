{
 "cells": [
  {
   "cell_type": "markdown",
   "metadata": {
    "id": "NseLwjLBjEtJ"
   },
   "source": [
    "#Challenge: Looking for similar patients, the AI Doctor House conquers severe COVID-19!\n",
    "##Team: FrancoArgentina \n",
    "---\n",
    "\n",
    "The task consists in the development of systems able to detect similarities among a collection of clinical case texts.\n",
    "\n",
    "The corpus is composed of 2500 clinical cases in Spanish of COVID-19 and non COVID-19 patients. \n",
    "\n",
    "Our approach has been to:\n",
    "1.   obtain a representation of each case in the corpus by training a LSTM autoencoder\n",
    "2.   find clusters of cases by applying a HDBCcan on t-SNE components computed on the encoder output\n",
    "3.   check the consistency of our clusters by computing the mean pairwise distance on TF-IDF features across the cluster \n",
    "4.   gain further knowledge on the clusters by extracting the dominant topics in each cluster with Latent Dirichlet Allocation\n",
    "\n",
    "\n",
    "---\n",
    "\n",
    "\n",
    "\n",
    "\n",
    "\n",
    "\n",
    "\n"
   ]
  },
  {
   "cell_type": "markdown",
   "metadata": {
    "id": "gSlMpy49mxkv"
   },
   "source": [
    "##Reading the data"
   ]
  },
  {
   "cell_type": "code",
   "execution_count": 439,
   "metadata": {
    "id": "RV3bSHUSQjdC"
   },
   "outputs": [],
   "source": [
    "# Importing libraries\n",
    "import numpy as np\n",
    "import tensorflow as tf\n",
    "from tensorflow import keras\n",
    "import os\n",
    "import pathlib\n",
    "import pandas as pd"
   ]
  },
  {
   "cell_type": "code",
   "execution_count": 440,
   "metadata": {
    "colab": {
     "base_uri": "https://localhost:8080/"
    },
    "id": "k07REUAPQjdg",
    "outputId": "4e91cb26-f1e9-4ea3-f6b6-09e622b9c92b"
   },
   "outputs": [
    {
     "name": "stdout",
     "output_type": "stream",
     "text": [
      "Drive already mounted at /content/drive; to attempt to forcibly remount, call drive.mount(\"/content/drive\", force_remount=True).\n",
      "\n",
      "Number of cases:  2500\n"
     ]
    }
   ],
   "source": [
    "# Mounting Google drive where we saved our data and embeddings (not used)\n",
    "from google.colab import drive\n",
    "drive.mount('/content/drive')\n",
    "\n",
    "# Unzip all the cases txt files\n",
    "# import zipfile\n",
    "# with zipfile.ZipFile('drive/MyDrive/Hackaton/covid-marato-clinical-cases.zip', 'r') as zip_ref:\n",
    "#     zip_ref.extractall('drive/MyDrive/Hackaton')\n",
    "\n",
    "# Read each case txt file\n",
    "import glob\n",
    "import re\n",
    "\n",
    "cases = {}\n",
    "for doc in glob.glob('drive/MyDrive/Hackaton/covid-marato-clinical-cases/covid_marato*txt'):\n",
    "    with open(doc, 'r') as reader:\n",
    "        case_id = int(re.sub('.txt', '', re.sub('.*marato_',  '', doc)))\n",
    "        cases[case_id] = re.sub('\\\\n', ' ', reader.read().lower())\n",
    "        reader.close()\n",
    "print(\"\\nNumber of cases: \",len(cases))"
   ]
  },
  {
   "cell_type": "markdown",
   "metadata": {
    "id": "6Xc6zf6pn8kJ"
   },
   "source": [
    "Let's have a look at two cases"
   ]
  },
  {
   "cell_type": "code",
   "execution_count": 441,
   "metadata": {
    "colab": {
     "base_uri": "https://localhost:8080/"
    },
    "id": "T9GyzAd1nyrr",
    "outputId": "3d07294b-c022-423e-97e9-c4f835ac4c2d"
   },
   "outputs": [
    {
     "name": "stdout",
     "output_type": "stream",
     "text": [
      "Case 2:  mujer de 32 años. refiere estreñimiento ha-bitual, en aumento durante la última temporada. la exploración física resulta anodina salvo el tacto rectal, en el que se palpa a punta de dedo una protrusión redondeada, blanda, y no dolorosa en la cara lateral derecha de la pared rectal. se solicita una ecografía abdominal apreciándose una masa de aspecto quístico y dudosa etiología de localización pararrectal derecha, de unos 34 mm de diámetro longitudinal. se solicita una rm de pelvis menor para filiar la lesión quística hallada en la ecografía, que se informa como una formación redondeada (4,8 x 2,7 cm), bien delimitada, con una cápsula fina y un contenido que muestra una intensidad de señal homogénea (tenuamente hipointenso en t2 y con una mayor señal en stir) en espacio pararrectal derecho y produciendo compresión sobre el mismo, pudiendo tratarse de una anomalía congénita. la paciente es derivada al servicio de cirugía general para tratamiento quirúrgico programado con la sospecha de hamartoma quístico retrorrectal (hqr). se extirpa una tumoración de aspecto quístico con paredes finas y varias loculaciones que se introducen entre las fibras musculares del músculo puborrectal-elevador a las que está adherido. en el servicio de anatomía patológica se reciben dos fragmentos irregulares de tejido de aspecto membranoso, de coloración parduzca, que en conjunto miden 3,5 x 3 x 1 cm. microscópicamente se trata de una lesión quística revestida mayoritariamente por epitelio escamoso maduro, focalmente por epitelio transicional y glandular, en cuya pared hay fascículos desorganizados de músculo liso y acinos de glándulas mucosas. el diagnóstico definitivo es hqr.  \n",
      "\n",
      "Case 2259:  varón de 3 meses de edad producto de quinta gesta, madre de 34 años de edad y padre de 39, no cosanguíneos. antecedente de tía materna con epilepsia y de hermano mayor de 6 años con autismo. embarazo normoevolutivo y nacimiento a termino mediante cesárea por presentación pélvica, sin complicaciones postnatales. es referido a la consulta externa de cirugía plástica pediátrica por presentar dificultad respiratoria nasal por obstrucción de la narina derecha por pólipo, así como masa intraoral pediculada en la encía superior entre 2 frenillos labiales. normocéfalo, sin hipertelorismo, epifora del ojo derecho, paladar alto, úvula y paladar bien formados.  la tomografía axial computarizada (tac) de cráneo y macizo facial reveló agenesia de cuerpo calloso aunada a una imagen hipodensa en la línea interhemisférica a nivel de las astas frontales, correspondiente a un lipoma con bordes irregulares de 3,8 x 2,1 x 1,7 cm; espina bífida oculta a nivel de columna cervical y fisura central a nivel de la arcada del maxilar superior.  el electroencefalograma estuvo dentro de los límites normales para la edad del paciene, sin evidencia de actividad paroxística ni de foco de lesión. practicamos resección quirúrgica en huso tanto del pólipo nasal único (de forma irregular, lobulado que midió 0,9 x 0,7x 0,5 cm) como del pólipo intraoral (de 2 x 1 x 0,7 cm). el estudio anatomopatológico informó de pólipos escamosos queratinizados con presencia de anexos pilosebáceos y de tejido fibroadiposo, con escasas glándulas mucinosas sin componentes inmaduros o malignos.  el seguimiento del paciente en consulta externa hasta la edad de 1 año y 8 meses en el momento de la publicación de este artículo, ha sido favorable y sin complicaciones. neurológicamente, a pesar de presentar agenesia del cuerpo calloso, se mantiene alerta con desarrollo sicomotor acorde para su edad y sin crisis convulsivas. el estudio cromosómico fue masculino 46 xy con cariotipo normal.  \n"
     ]
    }
   ],
   "source": [
    "print(\"Case 2: \",cases[2])\n",
    "print(\"\\nCase 2259: \",cases[2259])"
   ]
  },
  {
   "cell_type": "code",
   "execution_count": 442,
   "metadata": {
    "colab": {
     "base_uri": "https://localhost:8080/"
    },
    "id": "TXxPG2caQjdn",
    "outputId": "5f602e26-7c38-4d51-bc46-f11d8647c6bf"
   },
   "outputs": [
    {
     "name": "stdout",
     "output_type": "stream",
     "text": [
      "                                                case\n",
      "1  anamnesis paciente de 31 años, al que, tras un...\n",
      "2  mujer de 32 años. refiere estreñimiento ha-bit...\n",
      "3  niño de tres meses que presenta eritema y edem...\n",
      "4  paciente de 4 años remitido a consulta de ofta...\n",
      "5  anamnesis mujer sin antecedentes patológicos d...\n"
     ]
    }
   ],
   "source": [
    "# Convert cases data to dataframe\n",
    "data = pd.DataFrame.from_dict(cases, orient='index', columns=['case'])\n",
    "data = data.sort_index(axis=0)\n",
    "print(data.head(5))"
   ]
  },
  {
   "cell_type": "code",
   "execution_count": 443,
   "metadata": {
    "colab": {
     "base_uri": "https://localhost:8080/"
    },
    "id": "LOAw4OiXQjd0",
    "outputId": "ef5c2cb3-124e-4e87-c5aa-a768a81200c5"
   },
   "outputs": [
    {
     "name": "stdout",
     "output_type": "stream",
     "text": [
      "(2500,)\n"
     ]
    }
   ],
   "source": [
    "from sklearn.utils import shuffle\n",
    "\n",
    "# Shuffle the data\n",
    "data = shuffle(data)\n",
    "\n",
    "X_train = data['case'].values\n",
    "\n",
    "#Check dimenension\n",
    "print(np.shape(X_train))"
   ]
  },
  {
   "cell_type": "markdown",
   "metadata": {
    "id": "hTVSVMwZojw5"
   },
   "source": [
    "##1. LSTM autoencoder\n",
    "\n",
    "The encoder has 1 LSTM layer followed by a dense layer. The decoder has a bidirectionnal LSTM layer followed by a dense layer. We use Adam optimizer and categorical cross-entropy as loss.\n",
    "\n",
    "Note: The model archicture lets the user define recurrency with timesteps but we do not make use of this possibility here. As we work with independent documents previous documents do not bear meaningful information for the next one."
   ]
  },
  {
   "cell_type": "code",
   "execution_count": 444,
   "metadata": {
    "id": "ZymXNyJzk122"
   },
   "outputs": [],
   "source": [
    "import keras\n",
    "from keras import backend as K\n",
    "from keras.models import Sequential, Model\n",
    "from keras.layers import Input, LSTM, RepeatVector, Bidirectional\n",
    "from keras.layers.core import Flatten, Dense, Dropout, Lambda\n",
    "from keras.optimizers import SGD, RMSprop, Adam\n",
    "from keras import objectives\n",
    "\n",
    "# Function to define model architecture\n",
    "def create_lstm_autoencoder(input_dim, timesteps, latent_dim):\n",
    "    \"\"\"\n",
    "    Creates an LSTM Autoencoder. Returns Autoencoder, Encoder. \n",
    "    (All code by fchollet - see reference.)\n",
    "    # Arguments\n",
    "        input_dim: int.\n",
    "        timesteps: int, input timestep dimension.(set to 1 here)\n",
    "        latent_dim: int, latent z-layer shape. \n",
    "    # References\n",
    "        - [Keras implementation of LSTM Autoencoder](https://github.com/twairball/keras_lstm_vae)\n",
    "    \"\"\"\n",
    "\n",
    "    inputs = Input(shape=(timesteps, input_dim,))\n",
    "    # x_embed = embedding_layer(inputs)\n",
    "    encoded = LSTM(latent_dim)(inputs)\n",
    "    encoded = Dense(latent_dim, activation='relu') (encoded)\n",
    "\n",
    "    decoded = RepeatVector(timesteps)(encoded)\n",
    "    decoded = Bidirectional(LSTM(input_dim, return_sequences=True),merge_mode='sum')(decoded)\n",
    "    decoded = Dense(input_dim, activation='relu') (decoded)\n",
    "  \n",
    "    sequence_autoencoder = Model(inputs, decoded)\n",
    "    encoder = Model(inputs, encoded)\n",
    "\n",
    "    autoencoder = Model(inputs, decoded)\n",
    "    autoencoder.compile(optimizer='adam', loss=\"categorical_crossentropy\")\n",
    "    print(autoencoder.summary())\n",
    "    return autoencoder, encoder"
   ]
  },
  {
   "cell_type": "markdown",
   "metadata": {
    "id": "x__GzNBnpvLf"
   },
   "source": [
    "### Pre-processing\n",
    "\n",
    "We tokenize our documents with a cutoff at 900 tokens, adding a padding when necessary and reshape our input."
   ]
  },
  {
   "cell_type": "code",
   "execution_count": 445,
   "metadata": {
    "colab": {
     "base_uri": "https://localhost:8080/"
    },
    "id": "Ch4Lhi0hSccn",
    "outputId": "02cd64d7-2fea-4cb4-ea38-e52481171429"
   },
   "outputs": [
    {
     "name": "stdout",
     "output_type": "stream",
     "text": [
      "oriniginal shape: (2500, 900)\n",
      "Found 36849 unique tokens.\n",
      "reshaped: (2500, 1, 900)\n"
     ]
    }
   ],
   "source": [
    "from keras.preprocessing.text import Tokenizer\n",
    "from keras.preprocessing.sequence import pad_sequences\n",
    "\n",
    "num_words = 2000\n",
    "maxlen = 900\n",
    "# embed_dim = 150\n",
    "\n",
    "tokenizer = Tokenizer(num_words = num_words, split=' ')\n",
    "tokenizer.fit_on_texts(X_train)\n",
    "seqs = tokenizer.texts_to_sequences(X_train)\n",
    "pad_seqs = pad_sequences(seqs, maxlen)\n",
    "print(\"oriniginal shape:\", pad_seqs.shape)\n",
    "\n",
    "word_index = tokenizer.word_index\n",
    "print('Found %s unique tokens.' % len(word_index))\n",
    "\n",
    "timesteps = 1\n",
    "dataX = []\n",
    "for i in range(len(x_t)):\n",
    "    x = pad_seqs[i:(i+timesteps), :]\n",
    "    dataX.append(x)\n",
    "x_t_rs = np.array(dataX)\n",
    "print(\"reshaped:\", x_t_rs.shape)"
   ]
  },
  {
   "cell_type": "markdown",
   "metadata": {
    "id": "nqOsnCDzq6kA"
   },
   "source": [
    "###Hyperparameters and training:\n",
    "\n",
    "We set the dimension of the encoder output, the latent space dimension at 64. Batch size at 5 and 30 epochs."
   ]
  },
  {
   "cell_type": "code",
   "execution_count": 446,
   "metadata": {
    "colab": {
     "base_uri": "https://localhost:8080/"
    },
    "id": "Xb0bwWGSL6KA",
    "outputId": "e2bb7f51-bc92-4b3c-b2a6-0a508b9b5f2d"
   },
   "outputs": [
    {
     "name": "stdout",
     "output_type": "stream",
     "text": [
      "Model: \"model_56\"\n",
      "_________________________________________________________________\n",
      "Layer (type)                 Output Shape              Param #   \n",
      "=================================================================\n",
      "input_26 (InputLayer)        [(None, 1, 900)]          0         \n",
      "_________________________________________________________________\n",
      "lstm_40 (LSTM)               (None, 64)                247040    \n",
      "_________________________________________________________________\n",
      "dense_36 (Dense)             (None, 64)                4160      \n",
      "_________________________________________________________________\n",
      "repeat_vector_21 (RepeatVect (None, 1, 64)             0         \n",
      "_________________________________________________________________\n",
      "bidirectional_34 (Bidirectio (None, 1, 900)            6948000   \n",
      "_________________________________________________________________\n",
      "dense_37 (Dense)             (None, 1, 900)            810900    \n",
      "=================================================================\n",
      "Total params: 8,010,100\n",
      "Trainable params: 8,010,100\n",
      "Non-trainable params: 0\n",
      "_________________________________________________________________\n",
      "None\n",
      "Epoch 1/30\n",
      "500/500 [==============================] - 6s 6ms/step - loss: 1170452.0778\n",
      "Epoch 2/30\n",
      "500/500 [==============================] - 3s 6ms/step - loss: 1074714.5788\n",
      "Epoch 3/30\n",
      "500/500 [==============================] - 3s 6ms/step - loss: 1062140.9289\n",
      "Epoch 4/30\n",
      "500/500 [==============================] - 3s 6ms/step - loss: 1029877.7975\n",
      "Epoch 5/30\n",
      "500/500 [==============================] - 3s 6ms/step - loss: 876449.0371\n",
      "Epoch 6/30\n",
      "500/500 [==============================] - 3s 6ms/step - loss: 894244.7063\n",
      "Epoch 7/30\n",
      "500/500 [==============================] - 3s 6ms/step - loss: 881499.7567\n",
      "Epoch 8/30\n",
      "500/500 [==============================] - 3s 6ms/step - loss: 882299.5907\n",
      "Epoch 9/30\n",
      "500/500 [==============================] - 3s 6ms/step - loss: 873342.4732\n",
      "Epoch 10/30\n",
      "500/500 [==============================] - 3s 6ms/step - loss: 882777.0751\n",
      "Epoch 11/30\n",
      "500/500 [==============================] - 3s 6ms/step - loss: 866049.1351\n",
      "Epoch 12/30\n",
      "500/500 [==============================] - 3s 6ms/step - loss: 861158.6037\n",
      "Epoch 13/30\n",
      "500/500 [==============================] - 3s 6ms/step - loss: 885000.1830\n",
      "Epoch 14/30\n",
      "500/500 [==============================] - 3s 6ms/step - loss: 861091.9444\n",
      "Epoch 15/30\n",
      "500/500 [==============================] - 3s 6ms/step - loss: 873682.9704\n",
      "Epoch 16/30\n",
      "500/500 [==============================] - 3s 6ms/step - loss: 878510.3716\n",
      "Epoch 17/30\n",
      "500/500 [==============================] - 3s 6ms/step - loss: 860205.8623\n",
      "Epoch 18/30\n",
      "500/500 [==============================] - 3s 6ms/step - loss: 859780.9678\n",
      "Epoch 19/30\n",
      "500/500 [==============================] - 3s 6ms/step - loss: 885756.3710\n",
      "Epoch 20/30\n",
      "500/500 [==============================] - 3s 6ms/step - loss: 862141.4136\n",
      "Epoch 21/30\n",
      "500/500 [==============================] - 3s 6ms/step - loss: 856326.0439\n",
      "Epoch 22/30\n",
      "500/500 [==============================] - 3s 6ms/step - loss: 861481.1937\n",
      "Epoch 23/30\n",
      "500/500 [==============================] - 3s 6ms/step - loss: 884155.8131\n",
      "Epoch 24/30\n",
      "500/500 [==============================] - 3s 6ms/step - loss: 853730.2873\n",
      "Epoch 25/30\n",
      "500/500 [==============================] - 3s 6ms/step - loss: 875790.5934\n",
      "Epoch 26/30\n",
      "500/500 [==============================] - 3s 6ms/step - loss: 848825.0177\n",
      "Epoch 27/30\n",
      "500/500 [==============================] - 3s 6ms/step - loss: 865610.0650\n",
      "Epoch 28/30\n",
      "500/500 [==============================] - 3s 6ms/step - loss: 870360.2888\n",
      "Epoch 29/30\n",
      "500/500 [==============================] - 3s 6ms/step - loss: 874802.6657\n",
      "Epoch 30/30\n",
      "500/500 [==============================] - 3s 6ms/step - loss: 842669.9794\n"
     ]
    },
    {
     "data": {
      "text/plain": [
       "<tensorflow.python.keras.callbacks.History at 0x7febbf426e10>"
      ]
     },
     "execution_count": 446,
     "metadata": {
      "tags": []
     },
     "output_type": "execute_result"
    }
   ],
   "source": [
    "max_len = MAX_SEQUENCE_LENGTH\n",
    "batch_size = 5\n",
    "latent_dim = 64\n",
    "\n",
    "ae, encoder = create_lstm_autoencoder(max_len, \n",
    "    timesteps= timesteps, \n",
    "    latent_dim= latent_dim)\n",
    "\n",
    "ae.fit(x_t_rs, x_t_rs,batch_size= batch_size,\n",
    "          epochs=30)"
   ]
  },
  {
   "cell_type": "markdown",
   "metadata": {
    "id": "NU34GXYurp2e"
   },
   "source": [
    "##2. Clustering on latent space representation\n",
    " We extract the latent space representations of the documents in the corpus (encoder output)."
   ]
  },
  {
   "cell_type": "code",
   "execution_count": 447,
   "metadata": {
    "colab": {
     "base_uri": "https://localhost:8080/"
    },
    "id": "ffgwzETYHspb",
    "outputId": "51701cd8-4d82-41a1-b11e-69476bb69068"
   },
   "outputs": [
    {
     "name": "stdout",
     "output_type": "stream",
     "text": [
      "Check dimension; (2500, 64)\n"
     ]
    }
   ],
   "source": [
    "latent_space = encoder.predict(x_t_rs)\n",
    "latent_space_arr = np.asarray(latent_space)\n",
    "print(\"Check dimension;\",latent_space_arr.shape)\n"
   ]
  },
  {
   "cell_type": "markdown",
   "metadata": {
    "id": "-T_FdXhVtSAo"
   },
   "source": [
    "We build a 2 dimensional t-SNE representation of the encoder output using cosine similarity as metric and Barnes-Hut method.\n"
   ]
  },
  {
   "cell_type": "code",
   "execution_count": 448,
   "metadata": {
    "colab": {
     "base_uri": "https://localhost:8080/"
    },
    "id": "SfxezfksIFkr",
    "outputId": "16d03404-063a-4d05-c347-6cdb1c5d21fc"
   },
   "outputs": [
    {
     "name": "stdout",
     "output_type": "stream",
     "text": [
      "[t-SNE] Computing 91 nearest neighbors...\n",
      "[t-SNE] Indexed 2500 samples in 0.000s...\n",
      "[t-SNE] Computed neighbors for 2500 samples in 0.156s...\n",
      "[t-SNE] Computed conditional probabilities for sample 1000 / 2500\n",
      "[t-SNE] Computed conditional probabilities for sample 2000 / 2500\n",
      "[t-SNE] Computed conditional probabilities for sample 2500 / 2500\n",
      "[t-SNE] Mean sigma: 0.000000\n",
      "[t-SNE] KL divergence after 250 iterations with early exaggeration: 72.103134\n",
      "[t-SNE] KL divergence after 1000 iterations: 0.928860\n"
     ]
    }
   ],
   "source": [
    "import time\n",
    "from sklearn.manifold import TSNE\n",
    "time_start = time.time()\n",
    "tsne = TSNE(n_components=2, verbose=1, init='random', metric='cosine', random_state=None, method='barnes_hut')\n",
    "tsne_results = tsne.fit_transform(latent_space_arr)"
   ]
  },
  {
   "cell_type": "markdown",
   "metadata": {
    "id": "Mv6WMsGot7Lz"
   },
   "source": [
    "We can visualize the results and see at least 9 potential clusters."
   ]
  },
  {
   "cell_type": "code",
   "execution_count": 449,
   "metadata": {
    "colab": {
     "base_uri": "https://localhost:8080/",
     "height": 624
    },
    "id": "xQXDMrNQLRmv",
    "outputId": "2901f4d2-bf01-4231-e7de-9f7d44d8f67f"
   },
   "outputs": [
    {
     "data": {
      "text/plain": [
       "<matplotlib.axes._subplots.AxesSubplot at 0x7feba35410b8>"
      ]
     },
     "execution_count": 449,
     "metadata": {
      "tags": []
     },
     "output_type": "execute_result"
    },
    {
     "data": {
      "image/png": "[encoded data removed]",
      "text/plain": [
       "<Figure size 1152x720 with 1 Axes>"
      ]
     },
     "metadata": {
      "needs_background": "light",
      "tags": []
     },
     "output_type": "display_data"
    }
   ],
   "source": [
    "import seaborn as sns\n",
    "import matplotlib.pyplot as plt\n",
    "df = pd.DataFrame({\"tsne-2d-one\": tsne_results[:,0], \"tsne-2d-two\":tsne_results[:,1]})\n",
    "               \n",
    "plt.figure(figsize=(16,10))\n",
    "sns.scatterplot(\n",
    "    x=\"tsne-2d-one\", y=\"tsne-2d-two\",\n",
    "    palette=sns.color_palette(\"hls\", 10),\n",
    "    data=df,\n",
    "    legend=\"full\",\n",
    "    alpha=0.3\n",
    ")"
   ]
  },
  {
   "cell_type": "markdown",
   "metadata": {
    "id": "H5OQV3mjuGh7"
   },
   "source": [
    "We apply HDBScan on top of the t-SNE results with a minimum cluster size of 30 and visualize our clusters."
   ]
  },
  {
   "cell_type": "code",
   "execution_count": 450,
   "metadata": {
    "colab": {
     "base_uri": "https://localhost:8080/",
     "height": 592
    },
    "id": "hvgSe9YWne_K",
    "outputId": "56ddea64-cc8e-421c-f1a0-ea98178d9582"
   },
   "outputs": [
    {
     "data": {
      "image/png": "[encoded data removed]",
      "text/plain": [
       "<Figure size 1152x720 with 1 Axes>"
      ]
     },
     "metadata": {
      "needs_background": "light",
      "tags": []
     },
     "output_type": "display_data"
    }
   ],
   "source": [
    "# !pip install hdbscan\n",
    "import hdbscan\n",
    "\n",
    "labels = hdbscan.HDBSCAN(\n",
    "    min_samples=None,\n",
    "    metric = 'braycurtis',\n",
    "    min_cluster_size=30,\n",
    ").fit_predict(tsne_results)\n",
    "\n",
    "clustered = (labels >= 0)\n",
    "plt.figure(figsize=(16,10))\n",
    "plt.scatter(tsne_results[clustered, 0],\n",
    "            tsne_results[clustered, 1],\n",
    "            c=labels[clustered],\n",
    "            cmap='Spectral');\n",
    "\n",
    "# import umap\n",
    "# clusterable_embedding = umap.UMAP(\n",
    "#     # n_neighbors=91,\n",
    "#     # min_dist=0.0,\n",
    "#     n_components=2,\n",
    "#     random_state=42,\n",
    "#     metric = 'cosine'\n",
    "# ).fit_transform(latent_space_arr)\n",
    "\n",
    "# plt.figure(figsize=(16,10))\n",
    "# sns.scatterplot(clusterable_embedding[:, 0], clusterable_embedding[:, 1],\n",
    "#             palette=sns.color_palette(\"hls\", 10));\n",
    "\n",
    "# labels = hdbscan.HDBSCAN(\n",
    "#     min_samples=None,\n",
    "#     metric = 'braycurtis'\n",
    "#     min_cluster_size=10,\n",
    "# ).fit_predict(clusterable_embedding)\n",
    "\n",
    "# clustered = (labels >= 0)\n",
    "# plt.figure(figsize=(16,10))\n",
    "# plt.scatter(clusterable_embedding[clustered, 0],\n",
    "#             clusterable_embedding[clustered, 1],\n",
    "#             c=labels[clustered],\n",
    "#             cmap='Spectral');"
   ]
  },
  {
   "cell_type": "markdown",
   "metadata": {
    "id": "idg6tGVPLggn"
   },
   "source": [
    "##3. Consistency of clusters\n",
    "\n",
    "We use a traditional non-deep NLP technique to check the quality and consistency of our clusters.\n",
    "\n",
    "We computer the pairwise distances between all the cases texts in the corpus and average the distances (actually 1-distance) within a cluster. We expect the average pairwise distances in clusters to be close to 1.\n",
    "\n",
    "To compute the pairwise distances we first vectorize our document with TF-IDF after having tokenized, stemmed and removed stop words."
   ]
  },
  {
   "cell_type": "markdown",
   "metadata": {
    "id": "pq02oADFyy9W"
   },
   "source": [
    "We first obtain Spanish stopwords."
   ]
  },
  {
   "cell_type": "code",
   "execution_count": 451,
   "metadata": {
    "colab": {
     "base_uri": "https://localhost:8080/"
    },
    "id": "bdAJ4_5ILj-I",
    "outputId": "bf8c6a6a-5ffe-4e4c-8b28-2c00ace725cf"
   },
   "outputs": [
    {
     "name": "stdout",
     "output_type": "stream",
     "text": [
      "[nltk_data] Downloading package stopwords to /root/nltk_data...\n",
      "[nltk_data]   Package stopwords is already up-to-date!\n",
      "[nltk_data] Downloading package punkt to /root/nltk_data...\n",
      "[nltk_data]   Package punkt is already up-to-date!\n",
      "['de', 'la', 'que', 'el', 'en', 'y', 'a', 'los', 'del', 'se', 'las', 'por', 'un', 'para', 'con', 'no', 'una', 'su', 'al', 'lo', 'como', 'más', 'pero', 'sus', 'le', 'ya', 'o', 'este', 'sí', 'porque', 'esta', 'entre', 'cuando', 'muy', 'sin', 'sobre', 'también', 'me', 'hasta', 'hay', 'donde', 'quien', 'desde', 'todo', 'nos', 'durante', 'todos', 'uno', 'les', 'ni', 'contra', 'otros', 'ese', 'eso', 'ante', 'ellos', 'e', 'esto', 'mí', 'antes', 'algunos', 'qué', 'unos', 'yo', 'otro', 'otras', 'otra', 'él', 'tanto', 'esa', 'estos', 'mucho', 'quienes', 'nada', 'muchos', 'cual', 'poco', 'ella', 'estar', 'estas', 'algunas', 'algo', 'nosotros', 'mi', 'mis', 'tú', 'te', 'ti', 'tu', 'tus', 'ellas', 'nosotras', 'vosotros', 'vosotras', 'os', 'mío', 'mía', 'míos', 'mías', 'tuyo', 'tuya', 'tuyos', 'tuyas', 'suyo', 'suya', 'suyos', 'suyas', 'nuestro', 'nuestra', 'nuestros', 'nuestras', 'vuestro', 'vuestra', 'vuestros', 'vuestras', 'esos', 'esas', 'estoy', 'estás', 'está', 'estamos', 'estáis', 'están', 'esté', 'estés', 'estemos', 'estéis', 'estén', 'estaré', 'estarás', 'estará', 'estaremos', 'estaréis', 'estarán', 'estaría', 'estarías', 'estaríamos', 'estaríais', 'estarían', 'estaba', 'estabas', 'estábamos', 'estabais', 'estaban', 'estuve', 'estuviste', 'estuvo', 'estuvimos', 'estuvisteis', 'estuvieron', 'estuviera', 'estuvieras', 'estuviéramos', 'estuvierais', 'estuvieran', 'estuviese', 'estuvieses', 'estuviésemos', 'estuvieseis', 'estuviesen', 'estando', 'estado', 'estada', 'estados', 'estadas', 'estad', 'he', 'has', 'ha', 'hemos', 'habéis', 'han', 'haya', 'hayas', 'hayamos', 'hayáis', 'hayan', 'habré', 'habrás', 'habrá', 'habremos', 'habréis', 'habrán', 'habría', 'habrías', 'habríamos', 'habríais', 'habrían', 'había', 'habías', 'habíamos', 'habíais', 'habían', 'hube', 'hubiste', 'hubo', 'hubimos', 'hubisteis', 'hubieron', 'hubiera', 'hubieras', 'hubiéramos', 'hubierais', 'hubieran', 'hubiese', 'hubieses', 'hubiésemos', 'hubieseis', 'hubiesen', 'habiendo', 'habido', 'habida', 'habidos', 'habidas', 'soy', 'eres', 'es', 'somos', 'sois', 'son', 'sea', 'seas', 'seamos', 'seáis', 'sean', 'seré', 'serás', 'será', 'seremos', 'seréis', 'serán', 'sería', 'serías', 'seríamos', 'seríais', 'serían', 'era', 'eras', 'éramos', 'erais', 'eran', 'fui', 'fuiste', 'fue', 'fuimos', 'fuisteis', 'fueron', 'fuera', 'fueras', 'fuéramos', 'fuerais', 'fueran', 'fuese', 'fueses', 'fuésemos', 'fueseis', 'fuesen', 'sintiendo', 'sentido', 'sentida', 'sentidos', 'sentidas', 'siente', 'sentid', 'tengo', 'tienes', 'tiene', 'tenemos', 'tenéis', 'tienen', 'tenga', 'tengas', 'tengamos', 'tengáis', 'tengan', 'tendré', 'tendrás', 'tendrá', 'tendremos', 'tendréis', 'tendrán', 'tendría', 'tendrías', 'tendríamos', 'tendríais', 'tendrían', 'tenía', 'tenías', 'teníamos', 'teníais', 'tenían', 'tuve', 'tuviste', 'tuvo', 'tuvimos', 'tuvisteis', 'tuvieron', 'tuviera', 'tuvieras', 'tuviéramos', 'tuvierais', 'tuvieran', 'tuviese', 'tuvieses', 'tuviésemos', 'tuvieseis', 'tuviesen', 'teniendo', 'tenido', 'tenida', 'tenidos', 'tenidas', 'tened']\n"
     ]
    }
   ],
   "source": [
    "#Reference: http://brandonrose.org/clustering_mobile\n",
    "\n",
    "import nltk\n",
    "nltk.download('stopwords')\n",
    "nltk.download('punkt')\n",
    "stopwords = nltk.corpus.stopwords.words('spanish')\n",
    "print(stopwords)"
   ]
  },
  {
   "cell_type": "markdown",
   "metadata": {
    "id": "4oIrK2I5y8va"
   },
   "source": [
    "We then define a function to tokenize and stem"
   ]
  },
  {
   "cell_type": "code",
   "execution_count": 453,
   "metadata": {
    "id": "hzi6zvH8LxIL"
   },
   "outputs": [],
   "source": [
    "from nltk.stem.snowball import SnowballStemmer\n",
    "stemmer = SnowballStemmer(\"english\")\n",
    "def tokenize_and_stem(text):\n",
    "    # first tokenize by sentence, then by word to ensure that punctuation is caught as it's own token\n",
    "    tokens = [word for sent in nltk.sent_tokenize(text) for word in nltk.word_tokenize(sent)]\n",
    "    filtered_tokens = []\n",
    "    # filter out any tokens not containing letters (e.g., numeric tokens, raw punctuation)\n",
    "    for token in tokens:\n",
    "        if re.search('[a-zA-Z]', token):\n",
    "            filtered_tokens.append(token)\n",
    "    stems = [stemmer.stem(t) for t in filtered_tokens]\n",
    "    return stems"
   ]
  },
  {
   "cell_type": "markdown",
   "metadata": {
    "id": "lHAjZ6lBzQgV"
   },
   "source": [
    "We vectorize with TF-IDF while tokenizing, stemming and removing stop words. We remove as well words that are either very uncommon (present in less than 25 cases) or very common (more than 2000 cases)."
   ]
  },
  {
   "cell_type": "code",
   "execution_count": 463,
   "metadata": {
    "colab": {
     "base_uri": "https://localhost:8080/"
    },
    "id": "pjW7QpZZL4Cv",
    "outputId": "ce66d74d-6fe5-4912-bedd-d2c3d63d7fb6"
   },
   "outputs": [
    {
     "name": "stderr",
     "output_type": "stream",
     "text": [
      "/usr/local/lib/python3.6/dist-packages/sklearn/feature_extraction/text.py:385: UserWarning: Your stop_words may be inconsistent with your preprocessing. Tokenizing the stop words generated tokens ['alguna', 'alguno', 'ant', 'desd', 'dond', 'durant', 'ello', 'entr', 'erai', 'ere', 'est', 'estabai', 'estamo', 'estaremo', 'estaréi', 'estaríai', 'estaríamo', 'estemo', 'estuv', 'estuvierai', 'estuvies', 'estuviesei', 'estuvimo', 'estuvist', 'estuvistei', 'estuviéramo', 'estuviésemo', 'estábamo', 'estái', 'estéi', 'fuerai', 'fues', 'fuesei', 'fuimo', 'fuist', 'fuistei', 'fuéramo', 'fuésemo', 'habremo', 'habréi', 'habríai', 'habríamo', 'habéi', 'habíai', 'habíamo', 'hayamo', 'hayái', 'hemo', 'hubierai', 'hubies', 'hubiesei', 'hubimo', 'hubist', 'hubistei', 'hubiéramo', 'hubiésemo', 'nosotra', 'nosotro', 'porqu', 'seamo', 'seremo', 'seréi', 'seríai', 'seríamo', 'seái', 'sient', 'sobr', 'soi', 'somo', 'tendremo', 'tendréi', 'tendríai', 'tendríamo', 'tene', 'tenemo', 'tengamo', 'tengái', 'tenéi', 'teníai', 'teníamo', 'tien', 'tuvierai', 'tuvies', 'tuviesei', 'tuvimo', 'tuvist', 'tuvistei', 'tuviéramo', 'tuviésemo', 'vosotra', 'vosotro', 'éramo'] not in stop_words.\n",
      "  'stop_words.' % sorted(inconsistent))\n"
     ]
    },
    {
     "name": "stdout",
     "output_type": "stream",
     "text": [
      "CPU times: user 32.5 s, sys: 0 ns, total: 32.5 s\n",
      "Wall time: 32.4 s\n",
      "\n",
      "Check dimension: (2500, 6522)\n"
     ]
    }
   ],
   "source": [
    "from sklearn.feature_extraction.text import TfidfVectorizer\n",
    "\n",
    "#define vectorizer parameters\n",
    "tfidf_vectorizer = TfidfVectorizer(max_df=0.8, max_features=20000,\n",
    "                                 min_df=0.01, stop_words=stopwords,\n",
    "                                 use_idf=True, tokenizer=tokenize_and_stem, ngram_range=(1,3))\n",
    "\n",
    "%time tfidf_matrix = tfidf_vectorizer.fit_transform(data['case'].values) #fit the vectorizer to cases\n",
    "\n",
    "print(\"\\nCheck dimension:\",tfidf_matrix.shape)\n",
    "\n"
   ]
  },
  {
   "cell_type": "markdown",
   "metadata": {
    "id": "x4szMNkjzxiJ"
   },
   "source": [
    "We compute a pairwise distance matrix with cosine similarity on the vectorized documents."
   ]
  },
  {
   "cell_type": "code",
   "execution_count": 466,
   "metadata": {
    "colab": {
     "base_uri": "https://localhost:8080/",
     "height": 274
    },
    "id": "_Krpbvt5Q99l",
    "outputId": "6935c6bd-23db-4ec2-af41-274cf72a9544"
   },
   "outputs": [
    {
     "name": "stdout",
     "output_type": "stream",
     "text": [
      "Pairwise distance matrix first rows\n"
     ]
    },
    {
     "data": {
      "text/html": [
       "<div>\n",
       "<style scoped>\n",
       "    .dataframe tbody tr th:only-of-type {\n",
       "        vertical-align: middle;\n",
       "    }\n",
       "\n",
       "    .dataframe tbody tr th {\n",
       "        vertical-align: top;\n",
       "    }\n",
       "\n",
       "    .dataframe thead th {\n",
       "        text-align: right;\n",
       "    }\n",
       "</style>\n",
       "<table border=\"1\" class=\"dataframe\">\n",
       "  <thead>\n",
       "    <tr style=\"text-align: right;\">\n",
       "      <th></th>\n",
       "      <th>772</th>\n",
       "      <th>930</th>\n",
       "      <th>1522</th>\n",
       "      <th>2025</th>\n",
       "      <th>547</th>\n",
       "      <th>120</th>\n",
       "      <th>2189</th>\n",
       "      <th>1268</th>\n",
       "      <th>1835</th>\n",
       "      <th>275</th>\n",
       "      <th>705</th>\n",
       "      <th>654</th>\n",
       "      <th>657</th>\n",
       "      <th>1173</th>\n",
       "      <th>2217</th>\n",
       "      <th>1195</th>\n",
       "      <th>1469</th>\n",
       "      <th>291</th>\n",
       "      <th>1362</th>\n",
       "      <th>2369</th>\n",
       "      <th>230</th>\n",
       "      <th>48</th>\n",
       "      <th>1812</th>\n",
       "      <th>2175</th>\n",
       "      <th>1201</th>\n",
       "      <th>2145</th>\n",
       "      <th>1451</th>\n",
       "      <th>1666</th>\n",
       "      <th>563</th>\n",
       "      <th>514</th>\n",
       "      <th>966</th>\n",
       "      <th>44</th>\n",
       "      <th>2484</th>\n",
       "      <th>1461</th>\n",
       "      <th>440</th>\n",
       "      <th>671</th>\n",
       "      <th>192</th>\n",
       "      <th>2421</th>\n",
       "      <th>1960</th>\n",
       "      <th>656</th>\n",
       "      <th>...</th>\n",
       "      <th>899</th>\n",
       "      <th>1189</th>\n",
       "      <th>398</th>\n",
       "      <th>2201</th>\n",
       "      <th>2311</th>\n",
       "      <th>1427</th>\n",
       "      <th>785</th>\n",
       "      <th>2046</th>\n",
       "      <th>1029</th>\n",
       "      <th>83</th>\n",
       "      <th>549</th>\n",
       "      <th>1775</th>\n",
       "      <th>54</th>\n",
       "      <th>1772</th>\n",
       "      <th>1229</th>\n",
       "      <th>685</th>\n",
       "      <th>2298</th>\n",
       "      <th>1798</th>\n",
       "      <th>882</th>\n",
       "      <th>862</th>\n",
       "      <th>166</th>\n",
       "      <th>1896</th>\n",
       "      <th>298</th>\n",
       "      <th>2264</th>\n",
       "      <th>1378</th>\n",
       "      <th>2457</th>\n",
       "      <th>1537</th>\n",
       "      <th>1627</th>\n",
       "      <th>1803</th>\n",
       "      <th>352</th>\n",
       "      <th>1333</th>\n",
       "      <th>1257</th>\n",
       "      <th>1464</th>\n",
       "      <th>1494</th>\n",
       "      <th>1650</th>\n",
       "      <th>2054</th>\n",
       "      <th>1271</th>\n",
       "      <th>2392</th>\n",
       "      <th>1010</th>\n",
       "      <th>1533</th>\n",
       "    </tr>\n",
       "  </thead>\n",
       "  <tbody>\n",
       "    <tr>\n",
       "      <th>772</th>\n",
       "      <td>1.000000</td>\n",
       "      <td>0.957283</td>\n",
       "      <td>0.469964</td>\n",
       "      <td>0.469964</td>\n",
       "      <td>0.794139</td>\n",
       "      <td>0.975551</td>\n",
       "      <td>0.489904</td>\n",
       "      <td>0.968126</td>\n",
       "      <td>0.419151</td>\n",
       "      <td>0.794139</td>\n",
       "      <td>0.290471</td>\n",
       "      <td>0.930714</td>\n",
       "      <td>0.469964</td>\n",
       "      <td>0.794139</td>\n",
       "      <td>0.419151</td>\n",
       "      <td>0.419151</td>\n",
       "      <td>0.357611</td>\n",
       "      <td>0.297642</td>\n",
       "      <td>0.965738</td>\n",
       "      <td>0.419151</td>\n",
       "      <td>0.794139</td>\n",
       "      <td>0.794139</td>\n",
       "      <td>0.794139</td>\n",
       "      <td>0.794139</td>\n",
       "      <td>0.769275</td>\n",
       "      <td>0.794139</td>\n",
       "      <td>0.452446</td>\n",
       "      <td>0.794139</td>\n",
       "      <td>0.395598</td>\n",
       "      <td>0.990004</td>\n",
       "      <td>0.909795</td>\n",
       "      <td>0.469964</td>\n",
       "      <td>0.568408</td>\n",
       "      <td>0.794139</td>\n",
       "      <td>0.794139</td>\n",
       "      <td>0.297642</td>\n",
       "      <td>0.916218</td>\n",
       "      <td>0.297642</td>\n",
       "      <td>0.395598</td>\n",
       "      <td>0.848482</td>\n",
       "      <td>...</td>\n",
       "      <td>0.297642</td>\n",
       "      <td>0.568408</td>\n",
       "      <td>0.568408</td>\n",
       "      <td>0.489904</td>\n",
       "      <td>0.290471</td>\n",
       "      <td>0.469964</td>\n",
       "      <td>0.411767</td>\n",
       "      <td>0.489904</td>\n",
       "      <td>0.568408</td>\n",
       "      <td>0.881181</td>\n",
       "      <td>0.887049</td>\n",
       "      <td>0.568408</td>\n",
       "      <td>0.489904</td>\n",
       "      <td>0.794139</td>\n",
       "      <td>0.971749</td>\n",
       "      <td>0.794139</td>\n",
       "      <td>0.297642</td>\n",
       "      <td>0.419151</td>\n",
       "      <td>0.290471</td>\n",
       "      <td>0.395598</td>\n",
       "      <td>0.395598</td>\n",
       "      <td>0.794139</td>\n",
       "      <td>0.794139</td>\n",
       "      <td>0.469964</td>\n",
       "      <td>1.000000</td>\n",
       "      <td>0.290471</td>\n",
       "      <td>0.985319</td>\n",
       "      <td>0.967591</td>\n",
       "      <td>0.489904</td>\n",
       "      <td>0.568408</td>\n",
       "      <td>0.290471</td>\n",
       "      <td>0.916963</td>\n",
       "      <td>0.881181</td>\n",
       "      <td>0.290471</td>\n",
       "      <td>0.395598</td>\n",
       "      <td>0.568408</td>\n",
       "      <td>0.794139</td>\n",
       "      <td>0.568408</td>\n",
       "      <td>0.936788</td>\n",
       "      <td>0.290471</td>\n",
       "    </tr>\n",
       "    <tr>\n",
       "      <th>930</th>\n",
       "      <td>0.957283</td>\n",
       "      <td>1.000000</td>\n",
       "      <td>0.334387</td>\n",
       "      <td>0.334387</td>\n",
       "      <td>0.683117</td>\n",
       "      <td>0.983457</td>\n",
       "      <td>0.344964</td>\n",
       "      <td>0.918781</td>\n",
       "      <td>0.285571</td>\n",
       "      <td>0.683117</td>\n",
       "      <td>0.258122</td>\n",
       "      <td>0.956579</td>\n",
       "      <td>0.334387</td>\n",
       "      <td>0.683117</td>\n",
       "      <td>0.285571</td>\n",
       "      <td>0.285571</td>\n",
       "      <td>0.240002</td>\n",
       "      <td>0.205569</td>\n",
       "      <td>0.943480</td>\n",
       "      <td>0.285571</td>\n",
       "      <td>0.683117</td>\n",
       "      <td>0.683117</td>\n",
       "      <td>0.683117</td>\n",
       "      <td>0.683117</td>\n",
       "      <td>0.827164</td>\n",
       "      <td>0.683117</td>\n",
       "      <td>0.318681</td>\n",
       "      <td>0.683117</td>\n",
       "      <td>0.277038</td>\n",
       "      <td>0.954940</td>\n",
       "      <td>0.827577</td>\n",
       "      <td>0.334387</td>\n",
       "      <td>0.426008</td>\n",
       "      <td>0.683117</td>\n",
       "      <td>0.683117</td>\n",
       "      <td>0.205569</td>\n",
       "      <td>0.955824</td>\n",
       "      <td>0.205569</td>\n",
       "      <td>0.277038</td>\n",
       "      <td>0.878449</td>\n",
       "      <td>...</td>\n",
       "      <td>0.205569</td>\n",
       "      <td>0.426008</td>\n",
       "      <td>0.426008</td>\n",
       "      <td>0.344964</td>\n",
       "      <td>0.258122</td>\n",
       "      <td>0.334387</td>\n",
       "      <td>0.274234</td>\n",
       "      <td>0.344964</td>\n",
       "      <td>0.426008</td>\n",
       "      <td>0.793286</td>\n",
       "      <td>0.789865</td>\n",
       "      <td>0.426008</td>\n",
       "      <td>0.344964</td>\n",
       "      <td>0.683117</td>\n",
       "      <td>0.906558</td>\n",
       "      <td>0.683117</td>\n",
       "      <td>0.205569</td>\n",
       "      <td>0.285571</td>\n",
       "      <td>0.258122</td>\n",
       "      <td>0.277038</td>\n",
       "      <td>0.277038</td>\n",
       "      <td>0.683117</td>\n",
       "      <td>0.683117</td>\n",
       "      <td>0.334387</td>\n",
       "      <td>0.957283</td>\n",
       "      <td>0.258122</td>\n",
       "      <td>0.987055</td>\n",
       "      <td>0.964041</td>\n",
       "      <td>0.344964</td>\n",
       "      <td>0.426008</td>\n",
       "      <td>0.258122</td>\n",
       "      <td>0.925569</td>\n",
       "      <td>0.793286</td>\n",
       "      <td>0.258122</td>\n",
       "      <td>0.277038</td>\n",
       "      <td>0.426008</td>\n",
       "      <td>0.683117</td>\n",
       "      <td>0.426008</td>\n",
       "      <td>0.863101</td>\n",
       "      <td>0.258122</td>\n",
       "    </tr>\n",
       "    <tr>\n",
       "      <th>1522</th>\n",
       "      <td>0.469964</td>\n",
       "      <td>0.334387</td>\n",
       "      <td>1.000000</td>\n",
       "      <td>1.000000</td>\n",
       "      <td>0.761722</td>\n",
       "      <td>0.341044</td>\n",
       "      <td>0.981680</td>\n",
       "      <td>0.520003</td>\n",
       "      <td>0.965777</td>\n",
       "      <td>0.761722</td>\n",
       "      <td>0.592428</td>\n",
       "      <td>0.322664</td>\n",
       "      <td>1.000000</td>\n",
       "      <td>0.761722</td>\n",
       "      <td>0.965777</td>\n",
       "      <td>0.965777</td>\n",
       "      <td>0.772171</td>\n",
       "      <td>0.728320</td>\n",
       "      <td>0.372722</td>\n",
       "      <td>0.965777</td>\n",
       "      <td>0.761722</td>\n",
       "      <td>0.761722</td>\n",
       "      <td>0.761722</td>\n",
       "      <td>0.761722</td>\n",
       "      <td>0.161806</td>\n",
       "      <td>0.761722</td>\n",
       "      <td>0.995920</td>\n",
       "      <td>0.761722</td>\n",
       "      <td>0.888469</td>\n",
       "      <td>0.411269</td>\n",
       "      <td>0.648922</td>\n",
       "      <td>1.000000</td>\n",
       "      <td>0.928793</td>\n",
       "      <td>0.761722</td>\n",
       "      <td>0.761722</td>\n",
       "      <td>0.728320</td>\n",
       "      <td>0.269377</td>\n",
       "      <td>0.728320</td>\n",
       "      <td>0.888469</td>\n",
       "      <td>0.227764</td>\n",
       "      <td>...</td>\n",
       "      <td>0.728320</td>\n",
       "      <td>0.928793</td>\n",
       "      <td>0.928793</td>\n",
       "      <td>0.981680</td>\n",
       "      <td>0.592428</td>\n",
       "      <td>1.000000</td>\n",
       "      <td>0.962009</td>\n",
       "      <td>0.981680</td>\n",
       "      <td>0.928793</td>\n",
       "      <td>0.649799</td>\n",
       "      <td>0.682632</td>\n",
       "      <td>0.928793</td>\n",
       "      <td>0.981680</td>\n",
       "      <td>0.761722</td>\n",
       "      <td>0.569585</td>\n",
       "      <td>0.761722</td>\n",
       "      <td>0.728320</td>\n",
       "      <td>0.965777</td>\n",
       "      <td>0.592428</td>\n",
       "      <td>0.888469</td>\n",
       "      <td>0.888469</td>\n",
       "      <td>0.761722</td>\n",
       "      <td>0.761722</td>\n",
       "      <td>1.000000</td>\n",
       "      <td>0.469964</td>\n",
       "      <td>0.592428</td>\n",
       "      <td>0.389474</td>\n",
       "      <td>0.434095</td>\n",
       "      <td>0.981680</td>\n",
       "      <td>0.928793</td>\n",
       "      <td>0.592428</td>\n",
       "      <td>0.429612</td>\n",
       "      <td>0.649799</td>\n",
       "      <td>0.592428</td>\n",
       "      <td>0.888469</td>\n",
       "      <td>0.928793</td>\n",
       "      <td>0.761722</td>\n",
       "      <td>0.928793</td>\n",
       "      <td>0.642503</td>\n",
       "      <td>0.592428</td>\n",
       "    </tr>\n",
       "    <tr>\n",
       "      <th>2025</th>\n",
       "      <td>0.469964</td>\n",
       "      <td>0.334387</td>\n",
       "      <td>1.000000</td>\n",
       "      <td>1.000000</td>\n",
       "      <td>0.761722</td>\n",
       "      <td>0.341044</td>\n",
       "      <td>0.981680</td>\n",
       "      <td>0.520003</td>\n",
       "      <td>0.965777</td>\n",
       "      <td>0.761722</td>\n",
       "      <td>0.592428</td>\n",
       "      <td>0.322664</td>\n",
       "      <td>1.000000</td>\n",
       "      <td>0.761722</td>\n",
       "      <td>0.965777</td>\n",
       "      <td>0.965777</td>\n",
       "      <td>0.772171</td>\n",
       "      <td>0.728320</td>\n",
       "      <td>0.372722</td>\n",
       "      <td>0.965777</td>\n",
       "      <td>0.761722</td>\n",
       "      <td>0.761722</td>\n",
       "      <td>0.761722</td>\n",
       "      <td>0.761722</td>\n",
       "      <td>0.161806</td>\n",
       "      <td>0.761722</td>\n",
       "      <td>0.995920</td>\n",
       "      <td>0.761722</td>\n",
       "      <td>0.888469</td>\n",
       "      <td>0.411269</td>\n",
       "      <td>0.648922</td>\n",
       "      <td>1.000000</td>\n",
       "      <td>0.928793</td>\n",
       "      <td>0.761722</td>\n",
       "      <td>0.761722</td>\n",
       "      <td>0.728320</td>\n",
       "      <td>0.269377</td>\n",
       "      <td>0.728320</td>\n",
       "      <td>0.888469</td>\n",
       "      <td>0.227764</td>\n",
       "      <td>...</td>\n",
       "      <td>0.728320</td>\n",
       "      <td>0.928793</td>\n",
       "      <td>0.928793</td>\n",
       "      <td>0.981680</td>\n",
       "      <td>0.592428</td>\n",
       "      <td>1.000000</td>\n",
       "      <td>0.962009</td>\n",
       "      <td>0.981680</td>\n",
       "      <td>0.928793</td>\n",
       "      <td>0.649799</td>\n",
       "      <td>0.682632</td>\n",
       "      <td>0.928793</td>\n",
       "      <td>0.981680</td>\n",
       "      <td>0.761722</td>\n",
       "      <td>0.569585</td>\n",
       "      <td>0.761722</td>\n",
       "      <td>0.728320</td>\n",
       "      <td>0.965777</td>\n",
       "      <td>0.592428</td>\n",
       "      <td>0.888469</td>\n",
       "      <td>0.888469</td>\n",
       "      <td>0.761722</td>\n",
       "      <td>0.761722</td>\n",
       "      <td>1.000000</td>\n",
       "      <td>0.469964</td>\n",
       "      <td>0.592428</td>\n",
       "      <td>0.389474</td>\n",
       "      <td>0.434095</td>\n",
       "      <td>0.981680</td>\n",
       "      <td>0.928793</td>\n",
       "      <td>0.592428</td>\n",
       "      <td>0.429612</td>\n",
       "      <td>0.649799</td>\n",
       "      <td>0.592428</td>\n",
       "      <td>0.888469</td>\n",
       "      <td>0.928793</td>\n",
       "      <td>0.761722</td>\n",
       "      <td>0.928793</td>\n",
       "      <td>0.642503</td>\n",
       "      <td>0.592428</td>\n",
       "    </tr>\n",
       "    <tr>\n",
       "      <th>547</th>\n",
       "      <td>0.794139</td>\n",
       "      <td>0.683117</td>\n",
       "      <td>0.761722</td>\n",
       "      <td>0.761722</td>\n",
       "      <td>1.000000</td>\n",
       "      <td>0.696009</td>\n",
       "      <td>0.807736</td>\n",
       "      <td>0.845744</td>\n",
       "      <td>0.688702</td>\n",
       "      <td>1.000000</td>\n",
       "      <td>0.450591</td>\n",
       "      <td>0.660507</td>\n",
       "      <td>0.761722</td>\n",
       "      <td>1.000000</td>\n",
       "      <td>0.688702</td>\n",
       "      <td>0.688702</td>\n",
       "      <td>0.567968</td>\n",
       "      <td>0.507878</td>\n",
       "      <td>0.708369</td>\n",
       "      <td>0.688702</td>\n",
       "      <td>1.000000</td>\n",
       "      <td>1.000000</td>\n",
       "      <td>1.000000</td>\n",
       "      <td>1.000000</td>\n",
       "      <td>0.460081</td>\n",
       "      <td>1.000000</td>\n",
       "      <td>0.749208</td>\n",
       "      <td>1.000000</td>\n",
       "      <td>0.642976</td>\n",
       "      <td>0.751158</td>\n",
       "      <td>0.917207</td>\n",
       "      <td>0.761722</td>\n",
       "      <td>0.892445</td>\n",
       "      <td>1.000000</td>\n",
       "      <td>1.000000</td>\n",
       "      <td>0.507878</td>\n",
       "      <td>0.622309</td>\n",
       "      <td>0.507878</td>\n",
       "      <td>0.642976</td>\n",
       "      <td>0.555897</td>\n",
       "      <td>...</td>\n",
       "      <td>0.507878</td>\n",
       "      <td>0.892445</td>\n",
       "      <td>0.892445</td>\n",
       "      <td>0.807736</td>\n",
       "      <td>0.450591</td>\n",
       "      <td>0.761722</td>\n",
       "      <td>0.676603</td>\n",
       "      <td>0.807736</td>\n",
       "      <td>0.892445</td>\n",
       "      <td>0.963247</td>\n",
       "      <td>0.953601</td>\n",
       "      <td>0.892445</td>\n",
       "      <td>0.807736</td>\n",
       "      <td>1.000000</td>\n",
       "      <td>0.852690</td>\n",
       "      <td>1.000000</td>\n",
       "      <td>0.507878</td>\n",
       "      <td>0.688702</td>\n",
       "      <td>0.450591</td>\n",
       "      <td>0.642976</td>\n",
       "      <td>0.642976</td>\n",
       "      <td>1.000000</td>\n",
       "      <td>1.000000</td>\n",
       "      <td>0.761722</td>\n",
       "      <td>0.794139</td>\n",
       "      <td>0.450591</td>\n",
       "      <td>0.733222</td>\n",
       "      <td>0.782510</td>\n",
       "      <td>0.807736</td>\n",
       "      <td>0.892445</td>\n",
       "      <td>0.450591</td>\n",
       "      <td>0.777266</td>\n",
       "      <td>0.963247</td>\n",
       "      <td>0.450591</td>\n",
       "      <td>0.642976</td>\n",
       "      <td>0.892445</td>\n",
       "      <td>1.000000</td>\n",
       "      <td>0.892445</td>\n",
       "      <td>0.916285</td>\n",
       "      <td>0.450591</td>\n",
       "    </tr>\n",
       "  </tbody>\n",
       "</table>\n",
       "<p>5 rows × 2500 columns</p>\n",
       "</div>"
      ],
      "text/plain": [
       "          772       930       1522  ...      2392      1010      1533\n",
       "772   1.000000  0.957283  0.469964  ...  0.568408  0.936788  0.290471\n",
       "930   0.957283  1.000000  0.334387  ...  0.426008  0.863101  0.258122\n",
       "1522  0.469964  0.334387  1.000000  ...  0.928793  0.642503  0.592428\n",
       "2025  0.469964  0.334387  1.000000  ...  0.928793  0.642503  0.592428\n",
       "547   0.794139  0.683117  0.761722  ...  0.892445  0.916285  0.450591\n",
       "\n",
       "[5 rows x 2500 columns]"
      ]
     },
     "execution_count": 466,
     "metadata": {
      "tags": []
     },
     "output_type": "execute_result"
    }
   ],
   "source": [
    "from sklearn.metrics.pairwise import cosine_similarity\n",
    "dist = 1 - cosine_similarity(tfidf_matrix)\n",
    "\n",
    "dist_out = pd.DataFrame(data=dist_out,\n",
    "                       index=data.index,\n",
    "                       columns=data.index)\n",
    "print('Pairwise distance matrix first rows')\n",
    "dist_out.head()"
   ]
  },
  {
   "cell_type": "markdown",
   "metadata": {
    "id": "Ufnz-O8F0ihM"
   },
   "source": [
    "We finally compute the mean pairwise distances in each cluster and see all values are above 0.9. This shows that the documents in each cluster are very similar, using a representation of our documents different from the autoencoder latent space. Our clusters are therefore validated."
   ]
  },
  {
   "cell_type": "code",
   "execution_count": 465,
   "metadata": {
    "colab": {
     "base_uri": "https://localhost:8080/",
     "height": 614
    },
    "id": "hiFf0vqeVOc_",
    "outputId": "8ba35bbb-c8f3-420c-f4e1-45f46ff1f4cb"
   },
   "outputs": [
    {
     "data": {
      "text/html": [
       "<div>\n",
       "<style scoped>\n",
       "    .dataframe tbody tr th:only-of-type {\n",
       "        vertical-align: middle;\n",
       "    }\n",
       "\n",
       "    .dataframe tbody tr th {\n",
       "        vertical-align: top;\n",
       "    }\n",
       "\n",
       "    .dataframe thead th {\n",
       "        text-align: right;\n",
       "    }\n",
       "</style>\n",
       "<table border=\"1\" class=\"dataframe\">\n",
       "  <thead>\n",
       "    <tr style=\"text-align: right;\">\n",
       "      <th></th>\n",
       "      <th>cluster</th>\n",
       "      <th>mean_pairwdist</th>\n",
       "    </tr>\n",
       "  </thead>\n",
       "  <tbody>\n",
       "    <tr>\n",
       "      <th>0</th>\n",
       "      <td>0</td>\n",
       "      <td>0.954799</td>\n",
       "    </tr>\n",
       "    <tr>\n",
       "      <th>1</th>\n",
       "      <td>1</td>\n",
       "      <td>0.934577</td>\n",
       "    </tr>\n",
       "    <tr>\n",
       "      <th>2</th>\n",
       "      <td>2</td>\n",
       "      <td>0.934519</td>\n",
       "    </tr>\n",
       "    <tr>\n",
       "      <th>3</th>\n",
       "      <td>3</td>\n",
       "      <td>0.980898</td>\n",
       "    </tr>\n",
       "    <tr>\n",
       "      <th>4</th>\n",
       "      <td>4</td>\n",
       "      <td>0.936781</td>\n",
       "    </tr>\n",
       "    <tr>\n",
       "      <th>5</th>\n",
       "      <td>5</td>\n",
       "      <td>0.984835</td>\n",
       "    </tr>\n",
       "    <tr>\n",
       "      <th>6</th>\n",
       "      <td>6</td>\n",
       "      <td>0.955447</td>\n",
       "    </tr>\n",
       "    <tr>\n",
       "      <th>7</th>\n",
       "      <td>7</td>\n",
       "      <td>0.959733</td>\n",
       "    </tr>\n",
       "    <tr>\n",
       "      <th>8</th>\n",
       "      <td>8</td>\n",
       "      <td>0.978670</td>\n",
       "    </tr>\n",
       "    <tr>\n",
       "      <th>9</th>\n",
       "      <td>9</td>\n",
       "      <td>0.976891</td>\n",
       "    </tr>\n",
       "    <tr>\n",
       "      <th>10</th>\n",
       "      <td>10</td>\n",
       "      <td>0.978223</td>\n",
       "    </tr>\n",
       "    <tr>\n",
       "      <th>11</th>\n",
       "      <td>11</td>\n",
       "      <td>0.930534</td>\n",
       "    </tr>\n",
       "    <tr>\n",
       "      <th>12</th>\n",
       "      <td>12</td>\n",
       "      <td>0.914127</td>\n",
       "    </tr>\n",
       "    <tr>\n",
       "      <th>13</th>\n",
       "      <td>13</td>\n",
       "      <td>0.919780</td>\n",
       "    </tr>\n",
       "    <tr>\n",
       "      <th>14</th>\n",
       "      <td>14</td>\n",
       "      <td>0.940628</td>\n",
       "    </tr>\n",
       "    <tr>\n",
       "      <th>15</th>\n",
       "      <td>15</td>\n",
       "      <td>0.928851</td>\n",
       "    </tr>\n",
       "    <tr>\n",
       "      <th>16</th>\n",
       "      <td>16</td>\n",
       "      <td>0.946738</td>\n",
       "    </tr>\n",
       "    <tr>\n",
       "      <th>17</th>\n",
       "      <td>17</td>\n",
       "      <td>0.936345</td>\n",
       "    </tr>\n",
       "  </tbody>\n",
       "</table>\n",
       "</div>"
      ],
      "text/plain": [
       "    cluster  mean_pairwdist\n",
       "0         0        0.954799\n",
       "1         1        0.934577\n",
       "2         2        0.934519\n",
       "3         3        0.980898\n",
       "4         4        0.936781\n",
       "5         5        0.984835\n",
       "6         6        0.955447\n",
       "7         7        0.959733\n",
       "8         8        0.978670\n",
       "9         9        0.976891\n",
       "10       10        0.978223\n",
       "11       11        0.930534\n",
       "12       12        0.914127\n",
       "13       13        0.919780\n",
       "14       14        0.940628\n",
       "15       15        0.928851\n",
       "16       16        0.946738\n",
       "17       17        0.936345"
      ]
     },
     "execution_count": 465,
     "metadata": {
      "tags": []
     },
     "output_type": "execute_result"
    }
   ],
   "source": [
    "data2 = data\n",
    "data2[\"cluster\"] = labels\n",
    "data2 = pd.concat([data2,dist_out],axis=1)\n",
    "\n",
    "clust_nb = []\n",
    "mean_pairw_dist_clust = []\n",
    "for i in range(0,max(labels)+1):\n",
    "  dist_mat_clust = data2.loc[data2['cluster']==i]\n",
    "  cols = dist_mat_clust.index.tolist()\n",
    "  mat = dist_mat_clust[cols]\n",
    "  clust_nb.append(i)\n",
    "  mean_pairw_dist_clust.append(mat.stack().mean())\n",
    "\n",
    "doc_simil_clust = pd.DataFrame({'cluster':clust_nb,'mean_pairwdist':mean_pairw_dist_clust})\n",
    "doc_simil_clust"
   ]
  },
  {
   "cell_type": "markdown",
   "metadata": {
    "id": "aLuhwvgt1OTf"
   },
   "source": [
    "##4.Dominant topics in each cluster\n",
    "\n",
    "To get an insight in our clusters, we extract 5 15-word dominant topics in each cluster. "
   ]
  },
  {
   "cell_type": "markdown",
   "metadata": {
    "id": "HC9D9-wj1mga"
   },
   "source": [
    "For each cluster, we first pre-process our original data by tokenizing, stemming, removing stop words, very uncommon and very common words. We then extract the 5 15-word dominant topics."
   ]
  },
  {
   "cell_type": "code",
   "execution_count": 467,
   "metadata": {
    "colab": {
     "base_uri": "https://localhost:8080/"
    },
    "id": "_cJnaBURaurY",
    "outputId": "73926b53-63e2-4f74-ef49-3992df545ee3"
   },
   "outputs": [
    {
     "name": "stdout",
     "output_type": "stream",
     "text": [
      "\n",
      "Cluster 0 :\n",
      "\n",
      "[list([('tratamiento', 0.005219388), ('derecho', 0.0048838495), ('lesión', 0.0048782094), ('normal', 0.0047446257), ('mese', 0.004215667), ('cm', 0.004187667), ('día', 0.004146824), ('estudio', 0.0039973767), ('tumor', 0.003815076), ('evolución', 0.0037940207), ('diagnóstico', 0.0036088256), ('edad', 0.0035705545), ('exploración', 0.0035420747), ('renal', 0.003493928), ('célula', 0.0033667434)])\n",
      " list([('tratamiento', 0.008123796), ('normal', 0.0040716827), ('mese', 0.003950284), ('renal', 0.0038789622), ('estudio', 0.0035088942), ('cirugía', 0.0033638028), ('antecedent', 0.003232914), ('nivel', 0.0031680886), ('durant', 0.0031680572), ('realizó', 0.0031443157), ('abdomin', 0.0029756674), ('semana', 0.002972516), ('dosi', 0.0029494478), ('tras', 0.0028929454), ('derecho', 0.0028275875)])\n",
      " list([('exploración', 0.0050688307), ('antecedent', 0.0041817324), ('estudio', 0.004066097), ('presentaba', 0.003977179), ('tratamiento', 0.0039764345), ('tumoración', 0.0039630076), ('biopsia', 0.0039089997), ('normal', 0.003731202), ('control', 0.0034861823), ('tras', 0.0034858491), ('izquierda', 0.0034600147), ('evolución', 0.0034043922), ('tumor', 0.003240667), ('realizó', 0.003240518), ('arteria', 0.0029951804)])\n",
      " list([('tratamiento', 0.008720521), ('tras', 0.0067073232), ('días', 0.0062415185), ('normal', 0.005827297), ('diagnóstico', 0.005320636), ('mostró', 0.004714662), ('exploración', 0.0044470713), ('ingreso', 0.0037724224), ('derecho', 0.0036618926), ('realizó', 0.0035903498), ('antecedent', 0.0035831013), ('dolor', 0.003572766), ('durant', 0.0034434348), ('urgencia', 0.0034066818), ('mese', 0.003405035)])\n",
      " list([('estudio', 0.00618294), ('tratamiento', 0.0060554477), ('ojo', 0.005278945), ('normal', 0.0047941017), ('antecedent', 0.004179285), ('muestra', 0.003996328), ('exploración', 0.003921357), ('dolor', 0.0037849061), ('consulta', 0.0036533258), ('signo', 0.0032869594), ('tras', 0.003286608), ('presencia', 0.0031775609), ('cm', 0.0030382858), ('av', 0.0030377454), ('muñeca', 0.003037534)])]\n"
     ]
    },
    {
     "name": "stderr",
     "output_type": "stream",
     "text": [
      "/usr/local/lib/python3.6/dist-packages/ipykernel_launcher.py:26: VisibleDeprecationWarning: Creating an ndarray from ragged nested sequences (which is a list-or-tuple of lists-or-tuples-or ndarrays with different lengths or shapes) is deprecated. If you meant to do this, you must specify 'dtype=object' when creating the ndarray\n"
     ]
    },
    {
     "name": "stdout",
     "output_type": "stream",
     "text": [
      "\n",
      "Cluster 1 :\n",
      "\n",
      "[list([('mg/dl', 0.007967726), ('normal', 0.0034128572), ('g/dl', 0.0034012413), ('zona', 0.0024180685), ('hora', 0.002376802), ('tiroid', 0.0023730076), ('izquierdo', 0.002333154), ('líquido', 0.0022350429), ('pleural', 0.0021718012), ('célula', 0.002038813), ('mese', 0.0020225754), ('ojo', 0.0018761344), ('signo', 0.0018085416), ('estudio', 0.0017536135), ('h', 0.0017364324)])\n",
      " list([('ciclo', 0.007968454), ('tc', 0.0078552915), ('tumor', 0.0070309388), ('pulmonar', 0.0068082246), ('estudio', 0.005978636), ('realiza', 0.0058094845), ('nivel', 0.005641589), ('enfermedad', 0.0055891075), ('masa', 0.005585754), ('lesión', 0.005284167), ('cm', 0.0052185305), ('presenta', 0.005100357), ('derecho', 0.0049806386), ('adenopatía', 0.0048572267), ('grado', 0.0046554944)])\n",
      " list([('cm', 0.0032293524), ('mese', 0.0027243542), ('dos', 0.0025725616), ('social', 0.002515344), ('durant', 0.0023383028), ('realizó', 0.0022851715), ('entr', 0.002240506), ('días', 0.0021639604), ('dolor', 0.0021552278), ('distractor', 0.0020857393), ('mm', 0.002071011), ('mismo', 0.0020656842), ('mediant', 0.0020082449), ('nivel', 0.0019996557), ('hueso', 0.001933076)])\n",
      " list([('normal', 0.007385917), ('días', 0.005935466), ('ingreso', 0.0051021157), ('día', 0.0048132176), ('durant', 0.0040787207), ('hora', 0.003977388), ('negativo', 0.0038614424), ('alta', 0.0036484178), ('ant', 0.0035278779), ('mg/dl', 0.0033931604), ('cuadro', 0.0030784374), ('urgencia', 0.0029720669), ('resultado', 0.002716098), ('realizó', 0.002702443), ('despué', 0.002546365)])\n",
      " list([('mama', 0.014623807), ('derecha', 0.0070933183), ('nivel', 0.005911713), ('carcinoma', 0.005834642), ('izquierda', 0.005377408), ('normal', 0.0053192084), ('negativo', 0.0051245894), ('axilar', 0.005033787), ('positivo', 0.004561177), ('ósea', 0.004150219), ('estudio', 0.0040969346), ('infiltrant', 0.004016249), ('receptor', 0.0039667655), ('biopsia', 0.0036179647), ('ductal', 0.0034632336)])]\n"
     ]
    },
    {
     "name": "stderr",
     "output_type": "stream",
     "text": [
      "/usr/local/lib/python3.6/dist-packages/ipykernel_launcher.py:26: VisibleDeprecationWarning: Creating an ndarray from ragged nested sequences (which is a list-or-tuple of lists-or-tuples-or ndarrays with different lengths or shapes) is deprecated. If you meant to do this, you must specify 'dtype=object' when creating the ndarray\n"
     ]
    },
    {
     "name": "stdout",
     "output_type": "stream",
     "text": [
      "\n",
      "Cluster 2 :\n",
      "\n",
      "[list([('normal', 0.0049672876), ('estudio', 0.004698836), ('izquierdo', 0.004652996), ('derram', 0.0032278), ('testículo', 0.0028097294), ('testicular', 0.0026692043), ('renal', 0.0026206276), ('servicio', 0.0025309161), ('nivel', 0.0025210495), ('dos', 0.0024401126), ('presencia', 0.0024299559), ('realizó', 0.0022507245), ('mg/dl', 0.0022506556), ('control', 0.0021824029), ('días', 0.0021680812)])\n",
      " list([('mese', 0.0037483792), ('tras', 0.0035446025), ('dolor', 0.0033805098), ('izquierdo', 0.0032133001), ('control', 0.003174603), ('ósea', 0.0030860207), ('normal', 0.0029695344), ('episodio', 0.0029087507), ('servicio', 0.0026851585), ('derecho', 0.002409965), ('derecha', 0.0022637355), ('renal', 0.0021449658), ('mg/dl', 0.002132894), ('durant', 0.002130412), ('nivel', 0.0020323663)])\n",
      " list([('normal', 0.006075175), ('abdomin', 0.0053207213), ('masa', 0.0044416576), ('cm', 0.0042409883), ('derecho', 0.0040081292), ('inferior', 0.0038995675), ('estudio', 0.003883404), ('dolor', 0.0038411964), ('mese', 0.00379194), ('izquierdo', 0.0035493984), ('nivel', 0.0035399888), ('lesión', 0.003466215), ('diagnóstico', 0.0034296063), ('realizó', 0.00289353), ('renal', 0.0026642263)])\n",
      " list([('ciclo', 0.007912828), ('tc', 0.0077426406), ('tras', 0.0076316246), ('diagnóstico', 0.0071844473), ('exploración', 0.005945081), ('adenopatía', 0.0059316973), ('izquierda', 0.005834533), ('tumor', 0.0058289682), ('enfermedad', 0.005655401), ('estudio', 0.005582744), ('masa', 0.0054460457), ('derecha', 0.0053864713), ('realiza', 0.0052198875), ('cm', 0.005161761), ('carcinoma', 0.0049377503)])\n",
      " list([('día', 0.009991376), ('días', 0.007763224), ('prueba', 0.006095943), ('durant', 0.0058966256), ('normal', 0.005430529), ('ingreso', 0.005378055), ('alta', 0.004687667), ('tras', 0.004641837), ('despué', 0.00445006), ('mostró', 0.0043665743), ('valor', 0.00435294), ('mg', 0.003920778), ('resultado', 0.0037165561), ('sars-cov-2', 0.0034690958), ('torácica', 0.0034149669)])]\n"
     ]
    },
    {
     "name": "stderr",
     "output_type": "stream",
     "text": [
      "/usr/local/lib/python3.6/dist-packages/ipykernel_launcher.py:26: VisibleDeprecationWarning: Creating an ndarray from ragged nested sequences (which is a list-or-tuple of lists-or-tuples-or ndarrays with different lengths or shapes) is deprecated. If you meant to do this, you must specify 'dtype=object' when creating the ndarray\n"
     ]
    },
    {
     "name": "stdout",
     "output_type": "stream",
     "text": [
      "\n",
      "Cluster 3 :\n",
      "\n",
      "[list([('pulmonar', 0.0062129595), ('días', 0.005093405), ('evolución', 0.0048134592), ('tras', 0.0048133954), ('superior', 0.0039741155), ('normal', 0.0039739767), ('negativo', 0.0036941308), ('realizó', 0.0036941099), ('mese', 0.003694099), ('realiza', 0.003693981), ('célula', 0.00341431), ('ant', 0.0034142726), ('masa', 0.0034141587), ('estudio', 0.0034141354), ('hallazgo', 0.0031344274)])\n",
      " list([('día', 0.005931676), ('derecha', 0.005401913), ('enfermedad', 0.004872328), ('dolor', 0.004872319), ('realiza', 0.0048723035), ('mama', 0.0032834678), ('tras', 0.0032832809), ('enero', 0.0027539332), ('mandibular', 0.002753902), ('presenta', 0.0027538443), ('izquierdo', 0.0027538424), ('mostró', 0.0027538189), ('pulmon', 0.002753753), ('cadera', 0.002753724), ('lesion', 0.0027537174)])\n",
      " list([('lesion', 0.0058700484), ('tc', 0.0056171), ('día', 0.0051110014), ('diagnóstico', 0.005110988), ('lesión', 0.004858027), ('masa', 0.0048579695), ('metástasi', 0.00460508), ('tras', 0.004604789), ('general', 0.0043520117), ('evolución', 0.0043518264), ('pulmonar', 0.0040989043), ('prueba', 0.0038459068), ('hepática', 0.0038458868), ('dosi', 0.0035929517), ('días', 0.0035927591)])\n",
      " list([('inferior', 0.0048479754), ('lesion', 0.0044150534), ('dolor', 0.0044150515), ('enfermedad', 0.0044150464), ('evolución', 0.004415031), ('mg/dl', 0.003982074), ('miembro', 0.0035494617), ('nivel', 0.0035494505), ('cuadro', 0.003549412), ('días', 0.0035493309), ('estudio', 0.0035492838), ('exploración', 0.0031165218), ('ciclo', 0.003116494), ('dato', 0.0026838165), ('hora', 0.0026837243)])\n",
      " list([('derecho', 0.0065153064), ('tras', 0.0063128257), ('dolor', 0.0055035334), ('cm', 0.00408722), ('estudio', 0.0040871017), ('derecha', 0.0040870677), ('lesión', 0.0038848093), ('masa', 0.003884774), ('realiza', 0.0038847295), ('servicio', 0.0036825838), ('renal', 0.00368255), ('tumor', 0.00368254), ('realizó', 0.0036825102), ('inferior', 0.0036824623), ('enfermedad', 0.0036823628)])]\n"
     ]
    },
    {
     "name": "stderr",
     "output_type": "stream",
     "text": [
      "/usr/local/lib/python3.6/dist-packages/ipykernel_launcher.py:26: VisibleDeprecationWarning: Creating an ndarray from ragged nested sequences (which is a list-or-tuple of lists-or-tuples-or ndarrays with different lengths or shapes) is deprecated. If you meant to do this, you must specify 'dtype=object' when creating the ndarray\n"
     ]
    },
    {
     "name": "stdout",
     "output_type": "stream",
     "text": [
      "\n",
      "Cluster 4 :\n",
      "\n",
      "[list([('izquierda', 0.005884154), ('derecha', 0.0058837435), ('tumor', 0.0057509686), ('cm', 0.005617647), ('pulmonar', 0.005084063), ('metástasi', 0.004685588), ('realiza', 0.004685582), ('lesión', 0.0041534705), ('nódulo', 0.0041530426), ('mg', 0.0037496504), ('grado', 0.00362095), ('días', 0.00361678), ('carcinoma', 0.003486378), ('mm', 0.003221543), ('adenopatía', 0.003219661)])\n",
      " list([('normal', 0.005568059), ('nivel', 0.005544449), ('mg/dl', 0.004092353), ('lesion', 0.003845475), ('clínica', 0.0034340054), ('presenta', 0.0032138084), ('negativo', 0.0032115642), ('izquierda', 0.0032115523), ('cada', 0.0030143885), ('durant', 0.003005871), ('desd', 0.003000326), ('dosi', 0.0027950269), ('oncología', 0.0027942222), ('ant', 0.0027922546), ('pulmonar', 0.0027909642)])\n",
      " list([('hallazgo', 0.0050589675), ('tumor', 0.004831011), ('biopsia', 0.004375323), ('mm', 0.0043752976), ('decid', 0.004147407), ('hepática', 0.00414739), ('tórax', 0.0039195786), ('derecho', 0.003919509), ('negativo', 0.0039195064), ('presenta', 0.003919498), ('superior', 0.0036916381), ('carcinoma', 0.0036916204), ('mama', 0.0036915909), ('adenopatía', 0.0036915822), ('derecha', 0.0036915347)])\n",
      " list([('día', 0.0043365876), ('grado', 0.0043365387), ('enfermedad', 0.004084425), ('hepática', 0.004084397), ('realiza', 0.004084367), ('h', 0.003832378), ('dosi', 0.0038323358), ('tumor', 0.0038322215), ('u/ml', 0.0033281124), ('durant', 0.00332803), ('lesión', 0.0033279858), ('nivel', 0.0033279662), ('decid', 0.0030758854), ('alto', 0.0028238653), ('adenocarcinoma', 0.0028238492)])\n",
      " list([('derecha', 0.008674271), ('mama', 0.0069968933), ('adenopatía', 0.006278028), ('nivel', 0.0060384045), ('realiza', 0.0057987813), ('aumento', 0.005559244), ('izquierda', 0.004840319), ('pulmonar', 0.004840258), ('progresión', 0.0043610847), ('días', 0.0043610707), ('metástasi', 0.0043610563), ('mg', 0.0043610553), ('línea', 0.0038819162), ('axilar', 0.0038818573), ('carcinoma', 0.0038817846)])]\n"
     ]
    },
    {
     "name": "stderr",
     "output_type": "stream",
     "text": [
      "/usr/local/lib/python3.6/dist-packages/ipykernel_launcher.py:26: VisibleDeprecationWarning: Creating an ndarray from ragged nested sequences (which is a list-or-tuple of lists-or-tuples-or ndarrays with different lengths or shapes) is deprecated. If you meant to do this, you must specify 'dtype=object' when creating the ndarray\n"
     ]
    },
    {
     "name": "stdout",
     "output_type": "stream",
     "text": [
      "\n",
      "Cluster 5 :\n",
      "\n",
      "[list([('día', 0.005610136), ('tras', 0.0047766557), ('días', 0.0044990378), ('lesion', 0.004221379), ('normal', 0.004221293), ('derecho', 0.004221282), ('derecha', 0.003943652), ('mg', 0.00394365), ('semana', 0.0039436165), ('estudio', 0.003942902), ('ojo', 0.0033882177), ('superior', 0.0033880812), ('inició', 0.0031106162), ('despué', 0.0031105177), ('dolor', 0.003110408)])\n",
      " list([('izquierda', 0.0061292225), ('carcinoma', 0.0054257168), ('tras', 0.0046739583), ('pulmonar', 0.0045882864), ('ciclo', 0.0044415323), ('biopsia', 0.0044029453), ('evolución', 0.0044013145), ('adenopatía', 0.0043573203), ('tc', 0.004277016), ('estudio', 0.00420357), ('prueba', 0.0037479463), ('negativo', 0.0037162944), ('masa', 0.0036971588), ('derecha', 0.0035852348), ('x', 0.0035851926)])\n",
      " list([('mayo', 0.0049979948), ('normal', 0.004017984), ('días', 0.004017945), ('ant', 0.0035281314), ('tras', 0.0035277694), ('presencia', 0.0030381044), ('exploración', 0.003037992), ('covid-19', 0.0030377135), ('oral', 0.0025480792), ('hora', 0.0025480546), ('signo', 0.0025480436), ('ingreso', 0.0025480138), ('insuficiencia', 0.0025480126), ('cardiaca', 0.0025479863), ('decid', 0.002547916)])\n",
      " list([('cm', 0.008223092), ('tumor', 0.005142241), ('estudio', 0.0050899754), ('tras', 0.004549337), ('izquierdo', 0.004443671), ('x', 0.00436836), ('mese', 0.004363545), ('masa', 0.0035692072), ('nivel', 0.0034926555), ('normal', 0.0034194856), ('semana', 0.0030323179), ('derecho', 0.0029860807), ('lesion', 0.0029328722), ('realiza', 0.002912892), ('enfermedad', 0.0027523702)])\n",
      " list([('tc', 0.008536596), ('metástasi', 0.0056418767), ('derecho', 0.0054626954), ('tumor', 0.0053162985), ('izquierdo', 0.0052076364), ('evolución', 0.0051966063), ('masa', 0.0051625865), ('tras', 0.004937234), ('presenta', 0.0047200723), ('días', 0.0044954144), ('lesion', 0.004478629), ('respuesta', 0.00446249), ('mese', 0.004351657), ('izquierda', 0.0042563616), ('dolor', 0.0041517727)])]\n"
     ]
    },
    {
     "name": "stderr",
     "output_type": "stream",
     "text": [
      "/usr/local/lib/python3.6/dist-packages/ipykernel_launcher.py:26: VisibleDeprecationWarning: Creating an ndarray from ragged nested sequences (which is a list-or-tuple of lists-or-tuples-or ndarrays with different lengths or shapes) is deprecated. If you meant to do this, you must specify 'dtype=object' when creating the ndarray\n"
     ]
    },
    {
     "name": "stdout",
     "output_type": "stream",
     "text": [
      "\n",
      "Cluster 6 :\n",
      "\n",
      "[list([('derecho', 0.0044670687), ('normal', 0.0042460593), ('cm', 0.004024959), ('izquierda', 0.00387214), ('oncología', 0.0036418193), ('adenopatía', 0.0035821418), ('hallazgo', 0.0035644681), ('lesión', 0.003361418), ('días', 0.003360601), ('mg/dl', 0.0030985822), ('día', 0.0029534306), ('tumor', 0.002878896), ('mm', 0.0028041953), ('tc', 0.0027706895), ('x', 0.002706974)])\n",
      " list([('dolor', 0.0066907746), ('grado', 0.0055102888), ('x', 0.004760517), ('mg', 0.00393457), ('derecho', 0.0038820494), ('día', 0.0038542687), ('días', 0.003778895), ('ingreso', 0.0036857575), ('nivel', 0.0036078596), ('progresión', 0.0033635406), ('derecha', 0.0030164933), ('cm', 0.0030041402), ('masa', 0.0029832749), ('pulmonar', 0.0027103357), ('febrero', 0.0026977556)])\n",
      " list([('lesión', 0.009814334), ('lsd', 0.0073847156), ('pulmón', 0.005441411), ('lii', 0.0054409313), ('pulmonar', 0.0049557053), ('erlotinib', 0.004469337), ('presenta', 0.0039839945), ('tc', 0.0039839526), ('adenocarcinoma', 0.003983913), ('pemetrex', 0.0039836443), ('centro', 0.0034981994), ('estudio', 0.0034981004), ('masa', 0.0034980855), ('nivel', 0.0034980704), ('egfr', 0.0030123712)])\n",
      " list([('pulmonar', 0.0055791913), ('grado', 0.0048143193), ('normal', 0.0047642896), ('tc', 0.004512158), ('durant', 0.0042407694), ('izquierda', 0.004147578), ('progresión', 0.0037922692), ('mama', 0.0036405553), ('estudio', 0.0035024919), ('hallazgo', 0.003427855), ('tumor', 0.0034139368), ('días', 0.003404428), ('hora', 0.003269394), ('carcinoma', 0.0032643203), ('metástasi', 0.0032515633)])\n",
      " list([('nivel', 0.0073852586), ('mm', 0.004918091), ('estudio', 0.0048531624), ('compat', 0.0047084326), ('normal', 0.004580787), ('hepática', 0.0043607843), ('masa', 0.004002091), ('presencia', 0.003929012), ('tc', 0.0039066398), ('lesion', 0.0037988932), ('respuesta', 0.0037988736), ('metástasi', 0.0037960855), ('derecha', 0.0036636845), ('dolor', 0.003411708), ('derecho', 0.0033872586)])]\n"
     ]
    },
    {
     "name": "stderr",
     "output_type": "stream",
     "text": [
      "/usr/local/lib/python3.6/dist-packages/ipykernel_launcher.py:26: VisibleDeprecationWarning: Creating an ndarray from ragged nested sequences (which is a list-or-tuple of lists-or-tuples-or ndarrays with different lengths or shapes) is deprecated. If you meant to do this, you must specify 'dtype=object' when creating the ndarray\n"
     ]
    },
    {
     "name": "stdout",
     "output_type": "stream",
     "text": [
      "\n",
      "Cluster 7 :\n",
      "\n",
      "[list([('tratamiento', 0.009471977), ('renal', 0.004775244), ('ojo', 0.004639751), ('normal', 0.004604775), ('tras', 0.0044568405), ('estudio', 0.0043321876), ('exploración', 0.004328846), ('mese', 0.0042635305), ('cm', 0.004130173), ('derecha', 0.0041121426), ('diagnóstico', 0.0037359786), ('durant', 0.0036233414), ('masa', 0.0034166442), ('ant', 0.003257276), ('tc', 0.0030211075)])\n",
      " list([('arteria', 0.004379892), ('estudio', 0.004348899), ('normal', 0.00415801), ('tratamiento', 0.004058135), ('izquierda', 0.0031433732), ('nivel', 0.0028159744), ('dolor', 0.002810463), ('tras', 0.0028017273), ('lesión', 0.0027930064), ('cuadro', 0.0025230907), ('mediant', 0.0024812343), ('mm', 0.0024753346), ('exploración', 0.0024501835), ('ml', 0.0024214585), ('antecedent', 0.0023780812)])\n",
      " list([('día', 0.009714782), ('prueba', 0.007526822), ('días', 0.0069116554), ('normal', 0.0064668464), ('tratamiento', 0.0064460337), ('mostró', 0.004686249), ('fiebr', 0.0045055514), ('ingreso', 0.0041254624), ('proteína', 0.0040792846), ('mg/dl', 0.0040007825), ('presentó', 0.003982371), ('valor', 0.003937584), ('tac', 0.0038586052), ('pulmonar', 0.0036919066), ('covid-19', 0.0036057502)])\n",
      " list([('tratamiento', 0.01056038), ('normal', 0.0057099834), ('exploración', 0.005027991), ('izquierdo', 0.0049367426), ('lesión', 0.0047898605), ('estudio', 0.004782934), ('evolución', 0.0047433074), ('antecedent', 0.00450714), ('izquierda', 0.004484411), ('cm', 0.004414263), ('derecho', 0.0042855567), ('derecha', 0.0040260055), ('diagnóstico', 0.003969844), ('mese', 0.0039095306), ('tumor', 0.003723429)])\n",
      " list([('ojo', 0.011128801), ('tratamiento', 0.0054105003), ('derecho', 0.005398928), ('od', 0.0046998947), ('oi', 0.004474306), ('normal', 0.004220547), ('días', 0.0040014097), ('visual', 0.003979678), ('av', 0.0035637394), ('izquierdo', 0.003501191), ('alteracion', 0.003236646), ('dos', 0.003122194), ('exploración', 0.0030395703), ('tras', 0.003025358), ('realizó', 0.0029467174)])]\n"
     ]
    },
    {
     "name": "stderr",
     "output_type": "stream",
     "text": [
      "/usr/local/lib/python3.6/dist-packages/ipykernel_launcher.py:26: VisibleDeprecationWarning: Creating an ndarray from ragged nested sequences (which is a list-or-tuple of lists-or-tuples-or ndarrays with different lengths or shapes) is deprecated. If you meant to do this, you must specify 'dtype=object' when creating the ndarray\n"
     ]
    },
    {
     "name": "stdout",
     "output_type": "stream",
     "text": [
      "\n",
      "Cluster 8 :\n",
      "\n",
      "[list([('normal', 0.0046038544), ('días', 0.004444068), ('estudio', 0.0044044815), ('izquierdo', 0.0042628795), ('derecho', 0.004019096), ('dolor', 0.0035509188), ('realiza', 0.003518742), ('presenta', 0.003292152), ('zona', 0.0032732089), ('pulmonar', 0.003212937), ('día', 0.0027906117), ('mg/dl', 0.002736736), ('radiografía', 0.0026625881), ('nivel', 0.0026423007), ('tórax', 0.002525036)])\n",
      " list([('normal', 0.005796929), ('mg/dl', 0.0043443255), ('prótesi', 0.004153079), ('tumor', 0.0040606027), ('cervic', 0.003755519), ('masa', 0.0034450172), ('derecho', 0.0032747157), ('implant', 0.0032458832), ('así', 0.0026280927), ('valor', 0.002450218), ('distal', 0.0024360707), ('superior', 0.002304967), ('durant', 0.0022095228), ('cm', 0.002191386), ('derecha', 0.0020183)])\n",
      " list([('nivel', 0.008116986), ('dosi', 0.004035329), ('normal', 0.0038137499), ('mmhg', 0.0035520664), ('mmol/l', 0.003117674), ('mg/dl', 0.0029696743), ('servicio', 0.0028532296), ('seno', 0.002797303), ('quirúrgica', 0.0027232985), ('hora', 0.002678657), ('frontal', 0.0026786479), ('tras', 0.0025761132), ('arteri', 0.0025176322), ('pare', 0.0024118898), ('derecho', 0.0023349544)])\n",
      " list([('tras', 0.0071660317), ('ciclo', 0.006200107), ('tumor', 0.00583933), ('tc', 0.005788864), ('estudio', 0.0055940337), ('pulmonar', 0.005232233), ('derecha', 0.00506328), ('masa', 0.0047371183), ('enfermedad', 0.00447116), ('adenopatía', 0.004213068), ('respuesta', 0.0041652243), ('cm', 0.0041116076), ('izquierda', 0.0040766196), ('metástasi', 0.004015219), ('carcinoma', 0.00382799)])\n",
      " list([('hepática', 0.0072654034), ('tras', 0.004592715), ('estudio', 0.0043800343), ('tumor', 0.0040393705), ('tc', 0.0039760955), ('grado', 0.0038146155), ('realiza', 0.0037586887), ('derecho', 0.003444001), ('cirugía', 0.0032409518), ('mese', 0.0029590367), ('pulmonar', 0.0028504247), ('lesion', 0.0027879884), ('abdomin', 0.0026111633), ('control', 0.002527273), ('presenta', 0.0024153602)])]\n"
     ]
    },
    {
     "name": "stderr",
     "output_type": "stream",
     "text": [
      "/usr/local/lib/python3.6/dist-packages/ipykernel_launcher.py:26: VisibleDeprecationWarning: Creating an ndarray from ragged nested sequences (which is a list-or-tuple of lists-or-tuples-or ndarrays with different lengths or shapes) is deprecated. If you meant to do this, you must specify 'dtype=object' when creating the ndarray\n"
     ]
    },
    {
     "name": "stdout",
     "output_type": "stream",
     "text": [
      "\n",
      "Cluster 9 :\n",
      "\n",
      "[list([('derecho', 0.004618611), ('tras', 0.004607569), ('masa', 0.0041855336), ('normal', 0.0041781073), ('diagnóstico', 0.003991743), ('derecha', 0.0038945978), ('días', 0.0037845005), ('realizó', 0.0037258223), ('ciclo', 0.0037120199), ('ojo', 0.003606144), ('hora', 0.0036060512), ('lesión', 0.003544689), ('cm', 0.003319758), ('realiza', 0.0032941694), ('renal', 0.0031766836)])\n",
      " list([('normal', 0.004922154), ('derecho', 0.004578095), ('tumor', 0.004508686), ('diagnóstico', 0.0043329587), ('lesión', 0.003964338), ('tc', 0.0039256765), ('tras', 0.0038972225), ('antecedent', 0.0035800315), ('masa', 0.0034142863), ('exploración', 0.0032740727), ('prueba', 0.0032330686), ('grado', 0.0031047307), ('estudio', 0.0031045838), ('nivel', 0.0030865178), ('mese', 0.003046877)])\n",
      " list([('normal', 0.004563358), ('realizó', 0.0043333215), ('diagnóstico', 0.0042155934), ('tras', 0.0041500633), ('dolor', 0.0037404615), ('estudio', 0.0031710668), ('mese', 0.0029702077), ('pulmonar', 0.0029015809), ('alta', 0.002876603), ('semana', 0.002757818), ('durant', 0.0027525572), ('múltipl', 0.0026961558), ('cuadro', 0.0026243785), ('abdomin', 0.0026053935), ('presenta', 0.0025616088)])\n",
      " list([('normal', 0.004982518), ('nivel', 0.0037286938), ('diagnóstico', 0.0022036757), ('realizar', 0.002175182), ('desd', 0.0020941067), ('zona', 0.002005924), ('edad', 0.0020004949), ('hepática', 0.0020004406), ('arteria', 0.002000381), ('fenilalanina', 0.002000046), ('cabeza', 0.0019801462), ('posibl', 0.0019798244), ('enfermedad', 0.0019687435), ('días', 0.0019154978), ('analítica', 0.0018645362)])\n",
      " list([('estudio', 0.004921069), ('diagnóstico', 0.0048100976), ('normal', 0.0047502127), ('derecha', 0.0044266763), ('días', 0.0038526363), ('mese', 0.003693109), ('día', 0.0036223882), ('tumor', 0.0035487511), ('célula', 0.003469076), ('izquierda', 0.0034680814), ('cm', 0.0034114209), ('tras', 0.003401406), ('antecedent', 0.0033897911), ('presenta', 0.0033191834), ('izquierdo', 0.0031724332)])]\n"
     ]
    },
    {
     "name": "stderr",
     "output_type": "stream",
     "text": [
      "/usr/local/lib/python3.6/dist-packages/ipykernel_launcher.py:26: VisibleDeprecationWarning: Creating an ndarray from ragged nested sequences (which is a list-or-tuple of lists-or-tuples-or ndarrays with different lengths or shapes) is deprecated. If you meant to do this, you must specify 'dtype=object' when creating the ndarray\n"
     ]
    },
    {
     "name": "stdout",
     "output_type": "stream",
     "text": [
      "\n",
      "Cluster 10 :\n",
      "\n",
      "[list([('día', 0.0074503515), ('normal', 0.006529639), ('torácica', 0.0050961594), ('oxígeno', 0.004811001), ('días', 0.0045970166), ('mostró', 0.0045963936), ('tras', 0.0045118933), ('prueba', 0.004302027), ('despué', 0.0038042862), ('mediant', 0.0037560114), ('derecho', 0.0037533266), ('hora', 0.0037416772), ('alta', 0.0036870388), ('mg', 0.0034757503), ('lóbulo', 0.0030396667)])\n",
      " list([('normal', 0.0068071457), ('tras', 0.0054615983), ('dolor', 0.0048046447), ('diagnóstico', 0.004791183), ('estudio', 0.0044189505), ('abdomin', 0.0039682155), ('enfermedad', 0.003711541), ('antecedent', 0.0036430282), ('cm', 0.0035641738), ('evolución', 0.0035189074), ('ant', 0.0033667553), ('masa', 0.0032816795), ('exploración', 0.0031806368), ('derecho', 0.003163605), ('prueba', 0.0031332364)])\n",
      " list([('diagnóstico', 0.00603647), ('izquierda', 0.0058323382), ('nivel', 0.005581541), ('cm', 0.005318008), ('mama', 0.005167696), ('tc', 0.0049275733), ('ciclo', 0.0048941704), ('lesión', 0.0047546793), ('grado', 0.00433095), ('estudio', 0.004264062), ('adenopatía', 0.0042300406), ('evolución', 0.0039979774), ('progresión', 0.0039636386), ('carcinoma', 0.003908948), ('exploración', 0.0038952748)])\n",
      " list([('tras', 0.0057766144), ('x', 0.0049291453), ('cm', 0.004835392), ('días', 0.004341033), ('evolución', 0.0041979654), ('estudio', 0.0040958766), ('durant', 0.0040845326), ('mese', 0.0039885407), ('derecha', 0.0038919754), ('derecho', 0.0036675017), ('prueba', 0.0034838016), ('izquierda', 0.003455414), ('masa', 0.0033251096), ('ingreso', 0.0032687099), ('exploración', 0.002984965)])\n",
      " list([('normal', 0.005485504), ('pulmonar', 0.0049187765), ('estudio', 0.0047252895), ('tras', 0.0044375476), ('ant', 0.004393933), ('diagnóstico', 0.0042619803), ('exploración', 0.0042375666), ('nivel', 0.0039837793), ('lesión', 0.003884035), ('masa', 0.003759482), ('derecho', 0.0032394116), ('evolución', 0.003210759), ('prueba', 0.0031777816), ('antecedent', 0.003138456), ('cm', 0.003021564)])]\n"
     ]
    },
    {
     "name": "stderr",
     "output_type": "stream",
     "text": [
      "/usr/local/lib/python3.6/dist-packages/ipykernel_launcher.py:26: VisibleDeprecationWarning: Creating an ndarray from ragged nested sequences (which is a list-or-tuple of lists-or-tuples-or ndarrays with different lengths or shapes) is deprecated. If you meant to do this, you must specify 'dtype=object' when creating the ndarray\n"
     ]
    },
    {
     "name": "stdout",
     "output_type": "stream",
     "text": [
      "\n",
      "Cluster 11 :\n",
      "\n",
      "[list([('pulmonar', 0.0084906565), ('ciclo', 0.0075994567), ('tc', 0.0060843774), ('enfermedad', 0.004425854), ('días', 0.004231055), ('cada', 0.0037754355), ('progresión', 0.003647528), ('grado', 0.0036424077), ('respuesta', 0.0035317254), ('tumor', 0.003491516), ('cm', 0.003485725), ('hepática', 0.0033383353), ('lesión', 0.0033171636), ('adenopatía', 0.003225248), ('línea', 0.0032201887)])\n",
      " list([('día', 0.0043049003), ('dosi', 0.00425535), ('dolor', 0.003993073), ('grado', 0.0039576716), ('derecha', 0.0039045275), ('mg', 0.003418415), ('semana', 0.0032150988), ('normal', 0.0031573703), ('durant', 0.002893311), ('x', 0.0028747611), ('dos', 0.0028662982), ('abdomin', 0.0028289575), ('días', 0.0027104954), ('control', 0.0025872483), ('negativo', 0.0024807898)])\n",
      " list([('mama', 0.007515265), ('izquierda', 0.0051882984), ('derecha', 0.0050666844), ('ciclo', 0.0044216877), ('cm', 0.004337731), ('masa', 0.004266545), ('tumor', 0.003840253), ('lesión', 0.0037119514), ('lesion', 0.003680242), ('x', 0.0035480072), ('tc', 0.0034053246), ('carcinoma', 0.0033563573), ('biopsia', 0.0032189325), ('izquierdo', 0.00318507), ('nivel', 0.0031256948)])\n",
      " list([('ciclo', 0.0076464894), ('tumor', 0.006406808), ('tc', 0.005887575), ('izquierda', 0.0055831047), ('nivel', 0.0054107998), ('enfermedad', 0.0053362944), ('cm', 0.004927952), ('presenta', 0.0048978617), ('lesión', 0.0047574798), ('realiza', 0.0045383107), ('masa', 0.003936777), ('adenopatía', 0.0037306582), ('carcinoma', 0.0037012713), ('grado', 0.0036181333), ('durant', 0.0036098224)])\n",
      " list([('nivel', 0.0063802046), ('ciclo', 0.0058031217), ('adenopatía', 0.0051804027), ('pulmonar', 0.00481429), ('enfermedad', 0.0046939603), ('izquierda', 0.004504594), ('carcinoma', 0.004209195), ('tc', 0.0040581785), ('derecho', 0.004016456), ('derecha', 0.004006189), ('respuesta', 0.003993965), ('realiza', 0.0039899372), ('masa', 0.0037529794), ('lesion', 0.003750276), ('tumor', 0.0036365658)])]\n"
     ]
    },
    {
     "name": "stderr",
     "output_type": "stream",
     "text": [
      "/usr/local/lib/python3.6/dist-packages/ipykernel_launcher.py:26: VisibleDeprecationWarning: Creating an ndarray from ragged nested sequences (which is a list-or-tuple of lists-or-tuples-or ndarrays with different lengths or shapes) is deprecated. If you meant to do this, you must specify 'dtype=object' when creating the ndarray\n"
     ]
    },
    {
     "name": "stdout",
     "output_type": "stream",
     "text": [
      "\n",
      "Cluster 12 :\n",
      "\n",
      "[list([('derecho', 0.0071575125), ('pulmonar', 0.0063273665), ('derecha', 0.0057642143), ('masa', 0.005491), ('cm', 0.005394727), ('respuesta', 0.004409767), ('izquierdo', 0.0040170774), ('x', 0.003752712), ('lesión', 0.0036145123), ('presenta', 0.003543925), ('carcinoma', 0.0034541078), ('biopsia', 0.003340491), ('grado', 0.0033008629), ('mese', 0.003236291), ('adenopatía', 0.003215128)])\n",
      " list([('izquierda', 0.0057232385), ('pulmonar', 0.00536489), ('izquierdo', 0.005202778), ('masa', 0.0048686056), ('cm', 0.004801048), ('presenta', 0.0042577847), ('derecha', 0.0042150016), ('respuesta', 0.0041753906), ('adenopatía', 0.004174914), ('metástasi', 0.0039814087), ('decid', 0.0038609826), ('lesión', 0.0036530897), ('realiza', 0.0035174345), ('hallazgo', 0.003343517), ('dolor', 0.0031383794)])\n",
      " list([('dosi', 0.004308981), ('progresión', 0.0039341394), ('izquierda', 0.0037898454), ('decid', 0.0037274647), ('biopsia', 0.0037147645), ('dolor', 0.003491952), ('pulmonar', 0.0034415198), ('desd', 0.0031942457), ('cada', 0.0031672902), ('resultado', 0.0030040147), ('metástasi', 0.0029858989), ('izquierdo', 0.002973088), ('ósea', 0.002944002), ('hora', 0.002830157), ('derecha', 0.002754464)])\n",
      " list([('lesión', 0.004324246), ('renal', 0.004246156), ('negativo', 0.003952487), ('realiza', 0.0038986932), ('derecha', 0.0038184354), ('presenta', 0.00361508), ('mg/dl', 0.003503776), ('días', 0.0034753128), ('normal', 0.0034008925), ('pulmonar', 0.003191805), ('mm', 0.0031666732), ('masa', 0.003152651), ('lesion', 0.0030934755), ('grado', 0.0030521816), ('derecho', 0.0028159164)])\n",
      " list([('lesion', 0.004837244), ('cada', 0.0044449186), ('hepática', 0.004320381), ('metástasi', 0.0038749578), ('mg', 0.0036835205), ('días', 0.0036247855), ('mg/m2', 0.0035357175), ('ósea', 0.0035350055), ('masa', 0.003530334), ('cm', 0.003450298), ('día', 0.003400221), ('normal', 0.003332473), ('control', 0.003324231), ('ant', 0.0033031662), ('dolor', 0.0032676926)])]\n"
     ]
    },
    {
     "name": "stderr",
     "output_type": "stream",
     "text": [
      "/usr/local/lib/python3.6/dist-packages/ipykernel_launcher.py:26: VisibleDeprecationWarning: Creating an ndarray from ragged nested sequences (which is a list-or-tuple of lists-or-tuples-or ndarrays with different lengths or shapes) is deprecated. If you meant to do this, you must specify 'dtype=object' when creating the ndarray\n"
     ]
    },
    {
     "name": "stdout",
     "output_type": "stream",
     "text": [
      "\n",
      "Cluster 13 :\n",
      "\n",
      "[list([('hepática', 0.0045458637), ('derecho', 0.004545827), ('metástasi', 0.0045458144), ('pulmonar', 0.004545798), ('tamaño', 0.0040172497), ('u/l', 0.003753007), ('ciclo', 0.0034885686), ('cuadro', 0.0032243715), ('compat', 0.0032243535), ('derecha', 0.0032243296), ('hepático', 0.0029601047), ('mese', 0.002960073), ('día', 0.0029600663), ('presenta', 0.0029599932), ('nivel', 0.0029599646)])\n",
      " list([('negativo', 0.0070192637), ('mg/dl', 0.005197998), ('línea', 0.004459463), ('normal', 0.0037436744), ('renal', 0.0037250556), ('alteracion', 0.0030996583), ('nueva', 0.0030823455), ('vida', 0.0030494842), ('adenopatía', 0.0030145769), ('control', 0.0029829736), ('curso', 0.002715715), ('analítica', 0.0026347218), ('dolor', 0.0026088597), ('hepática', 0.0025225375), ('presencia', 0.0025169193)])\n",
      " list([('nivel', 0.0051182252), ('derecha', 0.004474557), ('pulmonar', 0.0044505945), ('realiza', 0.004268493), ('días', 0.0037411188), ('grado', 0.0037106306), ('ciclo', 0.0036895846), ('dosi', 0.0034564168), ('dolor', 0.003396109), ('lesion', 0.0033629294), ('normal', 0.0032094398), ('durant', 0.0032024444), ('lesión', 0.0031964749), ('alteracion', 0.003187507), ('día', 0.003170466)])\n",
      " list([('izquierda', 0.008036435), ('ciclo', 0.006997688), ('pulmonar', 0.00545865), ('lesión', 0.005314752), ('nivel', 0.0050127367), ('respuesta', 0.004724071), ('derecha', 0.004721992), ('metástasi', 0.0046305973), ('izquierdo', 0.0045582517), ('días', 0.0044251094), ('progresión', 0.0044042943), ('lesion', 0.004191204), ('derecho', 0.004106481), ('adenopatía', 0.004043079), ('x', 0.0040021758)])\n",
      " list([('g/dl', 0.00448628), ('dolor', 0.0040463265), ('días', 0.004046281), ('proteína', 0.0036065814), ('pleural', 0.0036065462), ('general', 0.0036065143), ('presenta', 0.0031666479), ('tórax', 0.0031666404), ('semana', 0.002726896), ('edema', 0.0027268908), ('buena', 0.0027268887), ('servicio', 0.0027268871), ('disnea', 0.0027268836), ('neumonía', 0.002726814), ('pulmonar', 0.0027267423)])]\n"
     ]
    },
    {
     "name": "stderr",
     "output_type": "stream",
     "text": [
      "/usr/local/lib/python3.6/dist-packages/ipykernel_launcher.py:26: VisibleDeprecationWarning: Creating an ndarray from ragged nested sequences (which is a list-or-tuple of lists-or-tuples-or ndarrays with different lengths or shapes) is deprecated. If you meant to do this, you must specify 'dtype=object' when creating the ndarray\n"
     ]
    },
    {
     "name": "stdout",
     "output_type": "stream",
     "text": [
      "\n",
      "Cluster 14 :\n",
      "\n",
      "[list([('pacient', 0.008290354), ('derecho', 0.007024307), ('tratamiento', 0.0065983273), ('normal', 0.006159425), ('mese', 0.0047214325), ('exploración', 0.0047212583), ('tamaño', 0.0035700048), ('lesion', 0.0035696384), ('afectación', 0.0029945814), ('zona', 0.0029941793), ('dos', 0.002994168), ('tras', 0.0029940954), ('lesión', 0.0029938451), ('realizó', 0.0029937176), ('edema', 0.0024185127)])\n",
      " list([('pacient', 0.009773682), ('días', 0.007851698), ('tratamiento', 0.005616738), ('lcr', 0.0047892397), ('fiebr', 0.0047577824), ('exploración', 0.004413437), ('enfermedad', 0.004281326), ('nivel', 0.004017554), ('hora', 0.003989472), ('alta', 0.003977061), ('pcr', 0.003957199), ('negativa', 0.0039558425), ('realizó', 0.0038103848), ('evolución', 0.0037771803), ('izquierda', 0.0037770476)])\n",
      " list([('pacient', 0.008308092), ('estudio', 0.0077629173), ('presenta', 0.0073586297), ('derecha', 0.0065498604), ('exploración', 0.0063421614), ('dos', 0.0056723077), ('cm', 0.0053370884), ('edad', 0.0049326336), ('derecho', 0.0049320054), ('lesion', 0.0049287244), ('diagnóstico', 0.004783977), ('realiza', 0.0045285854), ('mese', 0.0045279884), ('normal', 0.004527671), ('tratamiento', 0.004394091)])\n",
      " list([('normal', 0.007000845), ('od', 0.006374973), ('mese', 0.005125737), ('pacient', 0.0051243696), ('antecedent', 0.004500643), ('realizó', 0.0045004324), ('tratamiento', 0.0045001167), ('oi', 0.0044999807), ('urgencia', 0.0038755424), ('lesión', 0.0038754118), ('visión', 0.0038753392), ('derecha', 0.003875299), ('ojo', 0.0038752405), ('izquierda', 0.0032505367), ('evolución', 0.0032503647)])\n",
      " list([('mg/dl', 0.005957099), ('creatinina', 0.0059556896), ('test', 0.005129435), ('hora', 0.005129319), ('día', 0.0034751552), ('ingreso', 0.0034749461), ('mujer', 0.0034745727), ('presentó', 0.0034744733), ('cuadro', 0.0034742875), ('antecedent', 0.0034742574), ('catéter', 0.0034742549), ('glucosa', 0.0034741033), ('minuto', 0.0034741026), ('normal', 0.0034738723), ('permanencia', 0.0034738723)])]\n"
     ]
    },
    {
     "name": "stderr",
     "output_type": "stream",
     "text": [
      "/usr/local/lib/python3.6/dist-packages/ipykernel_launcher.py:26: VisibleDeprecationWarning: Creating an ndarray from ragged nested sequences (which is a list-or-tuple of lists-or-tuples-or ndarrays with different lengths or shapes) is deprecated. If you meant to do this, you must specify 'dtype=object' when creating the ndarray\n"
     ]
    },
    {
     "name": "stdout",
     "output_type": "stream",
     "text": [
      "\n",
      "Cluster 15 :\n",
      "\n",
      "[list([('pacient', 0.011137453), ('tratamiento', 0.007940267), ('lesión', 0.00653211), ('normal', 0.0057105212), ('exploración', 0.0055663344), ('antecedent', 0.004762806), ('dolor', 0.0047032554), ('tras', 0.0045221546), ('diagnóstico', 0.0043510664), ('estudio', 0.004297992), ('evolución', 0.004180808), ('derecho', 0.004176755), ('izquierdo', 0.004165895), ('mese', 0.0041338704), ('realizó', 0.00408276)])\n",
      " list([('pacient', 0.011592886), ('mese', 0.0052207033), ('tratamiento', 0.0047284155), ('evolución', 0.0038886964), ('estudio', 0.0038728404), ('dolor', 0.0038592082), ('tras', 0.0036782713), ('antecedent', 0.0033991602), ('edad', 0.003358272), ('presenta', 0.0031203313), ('realiza', 0.0030482863), ('lesión', 0.00303756), ('desd', 0.0027070194), ('oral', 0.0025102468), ('izquierda', 0.0025026493)])\n",
      " list([('pacient', 0.013828882), ('ojo', 0.009290901), ('días', 0.0077241473), ('tratamiento', 0.006490495), ('normal', 0.0057243975), ('prueba', 0.0053993943), ('día', 0.00535051), ('antecedent', 0.0046954914), ('od', 0.0045324657), ('mostró', 0.0043135015), ('oi', 0.004296796), ('exploración', 0.0042727333), ('av', 0.004067691), ('visual', 0.0040054475), ('fiebr', 0.0038835984)])\n",
      " list([('pacient', 0.0050196745), ('normal', 0.0049975286), ('tratamiento', 0.0048511615), ('tras', 0.004767489), ('izquierdo', 0.0046902103), ('derecho', 0.004596934), ('diagnóstico', 0.0045704963), ('dolor', 0.004496178), ('estudio', 0.0043631126), ('derecha', 0.004034664), ('antecedent', 0.0039389543), ('masa', 0.0038552736), ('mese', 0.003681127), ('cm', 0.003628999), ('evolución', 0.0036167519)])\n",
      " list([('pacient', 0.008523256), ('tratamiento', 0.0056782025), ('días', 0.0039912947), ('normal', 0.0037965763), ('durant', 0.0037096266), ('dos', 0.0036767072), ('mese', 0.003566963), ('hora', 0.0035294665), ('antecedent', 0.003516611), ('semana', 0.003500022), ('mg/dl', 0.002982668), ('tras', 0.0029321017), ('varón', 0.0029290626), ('ingreso', 0.0028631834), ('fractura', 0.002861662)])]\n"
     ]
    },
    {
     "name": "stderr",
     "output_type": "stream",
     "text": [
      "/usr/local/lib/python3.6/dist-packages/ipykernel_launcher.py:26: VisibleDeprecationWarning: Creating an ndarray from ragged nested sequences (which is a list-or-tuple of lists-or-tuples-or ndarrays with different lengths or shapes) is deprecated. If you meant to do this, you must specify 'dtype=object' when creating the ndarray\n"
     ]
    },
    {
     "name": "stdout",
     "output_type": "stream",
     "text": [
      "\n",
      "Cluster 16 :\n",
      "\n",
      "[list([('día', 0.0065160478), ('normal', 0.005907359), ('ant', 0.0042654956), ('control', 0.003990344), ('días', 0.0039605256), ('izquierdo', 0.0038330706), ('derecho', 0.003524933), ('resultado', 0.003410214), ('semana', 0.0033707847), ('analítica', 0.0031246815), ('negativo', 0.0031140568), ('decid', 0.0030741564), ('dosi', 0.0030740488), ('clínica', 0.0030350871), ('enfermedad', 0.0030294552)])\n",
      " list([('izquierda', 0.007699777), ('mama', 0.0057883454), ('tumor', 0.004969367), ('masa', 0.00469634), ('izquierdo', 0.00469627), ('cm', 0.0041502337), ('grado', 0.0041502216), ('x', 0.0041501857), ('carcinoma', 0.003877164), ('célula', 0.0036042058), ('metástasi', 0.0036041157), ('adenopatía', 0.0036041106), ('dosi', 0.0030580016), ('tc', 0.0030579073), ('supernumeraria', 0.0030578815)])\n",
      " list([('mama', 0.007650723), ('progresión', 0.0067748497), ('izquierda', 0.006190707), ('tc', 0.005606657), ('inicia', 0.0044386126), ('nódulo', 0.0041467194), ('ant', 0.0038545923), ('pulmonar', 0.003854589), ('x', 0.003854577), ('enfermedad', 0.0038545625), ('carcinoma', 0.003562571), ('nueva', 0.0032706044), ('línea', 0.0032705914), ('clínica', 0.0032705534), ('decid', 0.00327053)])\n",
      " list([('dolor', 0.005332458), ('enfermedad', 0.0050699953), ('tc', 0.0043421164), ('cuadro', 0.0042297207), ('decid', 0.003842989), ('hallazgo', 0.0035687739), ('durant', 0.003323793), ('progresión', 0.0032723357), ('lesión', 0.003194748), ('siendo', 0.0031809253), ('general', 0.0030151096), ('clínica', 0.002871381), ('quimioterapia', 0.0028635259), ('solicita', 0.0027930003), ('así', 0.0027929703)])\n",
      " list([('tc', 0.005900116), ('hallazgo', 0.005399033), ('lesión', 0.004030901), ('cm', 0.0039716144), ('pulmonar', 0.003896751), ('días', 0.0037820586), ('enfermedad', 0.0037764483), ('tumor', 0.0035724952), ('ósea', 0.0034419475), ('izquierdo', 0.0034194167), ('inicia', 0.003411478), ('realizó', 0.0034043493), ('adenopatía', 0.003278456), ('normal', 0.003183398), ('clínico', 0.0031820864)])]\n"
     ]
    },
    {
     "name": "stderr",
     "output_type": "stream",
     "text": [
      "/usr/local/lib/python3.6/dist-packages/ipykernel_launcher.py:26: VisibleDeprecationWarning: Creating an ndarray from ragged nested sequences (which is a list-or-tuple of lists-or-tuples-or ndarrays with different lengths or shapes) is deprecated. If you meant to do this, you must specify 'dtype=object' when creating the ndarray\n"
     ]
    },
    {
     "name": "stdout",
     "output_type": "stream",
     "text": [
      "\n",
      "Cluster 17 :\n",
      "\n",
      "[list([('ciclo', 0.008333035), ('pulmonar', 0.005333205), ('nivel', 0.005181998), ('grado', 0.004856069), ('lesión', 0.0044855387), ('izquierdo', 0.004468845), ('izquierda', 0.0044348873), ('derecha', 0.004428356), ('respuesta', 0.0042558215), ('tumor', 0.0042017116), ('realiza', 0.004075482), ('ant', 0.0037932873), ('mama', 0.0035882608), ('adenopatía', 0.0034744584), ('derecho', 0.003311712)])\n",
      " list([('nivel', 0.0064216536), ('realiza', 0.0051171896), ('dosi', 0.004561636), ('progresión', 0.004500077), ('pulmonar', 0.0044524707), ('mg', 0.004226711), ('decid', 0.003884066), ('masa', 0.0038159937), ('durant', 0.003669359), ('control', 0.0036306062), ('ingreso', 0.0031826212), ('dolor', 0.0031092854), ('respuesta', 0.003017211), ('inicia', 0.0029873266), ('metástasi', 0.0029839568)])\n",
      " list([('ciclo', 0.008407306), ('grado', 0.00579965), ('cm', 0.0050200764), ('tumor', 0.0045122346), ('lesion', 0.0043107793), ('respuesta', 0.0038248708), ('nivel', 0.00375616), ('progresión', 0.003739902), ('adenopatía', 0.0032251168), ('derecha', 0.003129772), ('pulmonar', 0.003078517), ('control', 0.0029969558), ('masa', 0.0029793924), ('hepática', 0.0029218914), ('normal', 0.0029054985)])\n",
      " list([('izquierda', 0.0045503), ('ósea', 0.004254864), ('realiza', 0.004151276), ('dolor', 0.004000371), ('mg', 0.0039682672), ('masa', 0.0038812372), ('negativo', 0.0038401035), ('metástasi', 0.0037108266), ('control', 0.0035166845), ('normal', 0.003301033), ('recidiva', 0.0030867157), ('renal', 0.0028473316), ('pulmonar', 0.0028249128), ('derecha', 0.0027629954), ('cada', 0.0027603167)])\n",
      " list([('realiza', 0.004858016), ('lesión', 0.0047609084), ('grado', 0.003970886), ('días', 0.0039566588), ('nivel', 0.0039508147), ('lesion', 0.003937034), ('tumor', 0.0039105), ('derecha', 0.003685384), ('inferior', 0.0036498932), ('izquierdo', 0.0035143385), ('cm', 0.0034207583), ('derecho', 0.003316864), ('durant', 0.003239248), ('control', 0.0031898937), ('inicia', 0.0031167371)])]\n"
     ]
    },
    {
     "name": "stderr",
     "output_type": "stream",
     "text": [
      "/usr/local/lib/python3.6/dist-packages/ipykernel_launcher.py:26: VisibleDeprecationWarning: Creating an ndarray from ragged nested sequences (which is a list-or-tuple of lists-or-tuples-or ndarrays with different lengths or shapes) is deprecated. If you meant to do this, you must specify 'dtype=object' when creating the ndarray\n"
     ]
    }
   ],
   "source": [
    "from gensim import corpora, models, similarities\n",
    "\n",
    "for i in range(0,max(labels)+1):\n",
    "  clust_cases = data2.loc[data2['cluster']==i,'case'].tolist()\n",
    "\n",
    "  tokenized_text = [tokenize_and_stem(text) for text in clust_cases]\n",
    "\n",
    "  #remove stop words\n",
    "  texts = [[word for word in text if word not in stopwords] for text in tokenized_text]\n",
    "\n",
    "  #create a Gensim dictionary from the texts\n",
    "  dictionary = corpora.Dictionary(texts)\n",
    "\n",
    "  #remove extremes (similar to the min/max df step used when creating the tf-idf matrix)\n",
    "  dictionary.filter_extremes(no_below=1, no_above=0.8)\n",
    "\n",
    "  #convert the dictionary to a bag of words corpus for reference\n",
    "  corpus = [dictionary.doc2bow(text) for text in texts]\n",
    "\n",
    "  #fit LDS model\n",
    "  lda = models.LdaModel(corpus, num_topics=5, id2word=dictionary, update_every=5, chunksize=10000, passes=100)\n",
    "\n",
    "  #Print topics\n",
    "  print(\"\\nCluster\",i,\":\\n\")\n",
    "  topics_matrix = lda.show_topics(formatted=False, num_words=15)\n",
    "  topics_matrix = np.array(topics_matrix)\n",
    "  topic_words = topics_matrix[:,1]\n",
    "  print(topic_words)\n",
    "  # for i in topic_words:\n",
    "  #     print([str(word) for word in i])"
   ]
  },
  {
   "cell_type": "code",
   "execution_count": 468,
   "metadata": {
    "id": "FsGqkDiEO_cU"
   },
   "outputs": [],
   "source": [
    "# Save results\n",
    "np.save(\"drive/MyDrive/Hackaton/ae_lstm_latent_space\", latent_space_arr)\n",
    "np.savetxt(\"drive/MyDrive/Hackaton/cosine_dist_mat_on_latenrep.csv\",dist_out,delimiter=\",\")"
   ]
  }
 ],
 "metadata": {
  "accelerator": "GPU",
  "colab": {
   "collapsed_sections": [],
   "name": "Hackaton_Paul.ipynb",
   "provenance": []
  },
  "kernelspec": {
   "display_name": "Python 3",
   "language": "python",
   "name": "python3"
  },
  "language_info": {
   "codemirror_mode": {
    "name": "ipython",
    "version": 3
   },
   "file_extension": ".py",
   "mimetype": "text/x-python",
   "name": "python",
   "nbconvert_exporter": "python",
   "pygments_lexer": "ipython3",
   "version": "3.8.6"
  }
 },
 "nbformat": 4,
 "nbformat_minor": 1
}
